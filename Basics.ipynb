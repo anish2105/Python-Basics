{
 "cells": [
  {
   "cell_type": "code",
   "execution_count": 1,
   "metadata": {},
   "outputs": [
    {
     "name": "stdout",
     "output_type": "stream",
     "text": [
      "hello\n"
     ]
    }
   ],
   "source": [
    "print('hello')"
   ]
  },
  {
   "cell_type": "code",
   "execution_count": 2,
   "metadata": {},
   "outputs": [
    {
     "name": "stdout",
     "output_type": "stream",
     "text": [
      "How r uanish\n"
     ]
    }
   ],
   "source": [
    "first=input(\"How r u\")"
   ]
  },
  {
   "cell_type": "code",
   "execution_count": 3,
   "metadata": {},
   "outputs": [
    {
     "name": "stdout",
     "output_type": "stream",
     "text": [
      "Welcome\n",
      "How r u:1\n",
      "You have responded with 1\n"
     ]
    }
   ],
   "source": [
    "print(\"Welcome\")\n",
    "\n",
    "ask=input(\"How r u:\")\n",
    "\n",
    "print(\"You have responded with \" + ask)"
   ]
  },
  {
   "cell_type": "code",
   "execution_count": 4,
   "metadata": {},
   "outputs": [],
   "source": [
    "#data types\n"
   ]
  },
  {
   "cell_type": "code",
   "execution_count": 5,
   "metadata": {},
   "outputs": [],
   "source": [
    "#1.Numbers\n",
    "num_one = 205\n",
    "float_one=9.6"
   ]
  },
  {
   "cell_type": "code",
   "execution_count": 6,
   "metadata": {},
   "outputs": [
    {
     "data": {
      "text/plain": [
       "int"
      ]
     },
     "execution_count": 6,
     "metadata": {},
     "output_type": "execute_result"
    }
   ],
   "source": [
    "type(num_one)"
   ]
  },
  {
   "cell_type": "code",
   "execution_count": 7,
   "metadata": {},
   "outputs": [
    {
     "data": {
      "text/plain": [
       "float"
      ]
     },
     "execution_count": 7,
     "metadata": {},
     "output_type": "execute_result"
    }
   ],
   "source": [
    "type(float_one)"
   ]
  },
  {
   "cell_type": "code",
   "execution_count": 8,
   "metadata": {},
   "outputs": [],
   "source": [
    "#2.Strings\n",
    "text = 'Hi my name is Anish'"
   ]
  },
  {
   "cell_type": "code",
   "execution_count": 9,
   "metadata": {},
   "outputs": [
    {
     "data": {
      "text/plain": [
       "str"
      ]
     },
     "execution_count": 9,
     "metadata": {},
     "output_type": "execute_result"
    }
   ],
   "source": [
    "type(text)"
   ]
  },
  {
   "cell_type": "code",
   "execution_count": 10,
   "metadata": {},
   "outputs": [],
   "source": [
    "#3.List\n",
    "a_list = [3,4,'hi',5,7,[1,2,3]]"
   ]
  },
  {
   "cell_type": "code",
   "execution_count": 11,
   "metadata": {},
   "outputs": [
    {
     "data": {
      "text/plain": [
       "list"
      ]
     },
     "execution_count": 11,
     "metadata": {},
     "output_type": "execute_result"
    }
   ],
   "source": [
    "type(a_list)"
   ]
  },
  {
   "cell_type": "code",
   "execution_count": 12,
   "metadata": {},
   "outputs": [],
   "source": [
    "#4.dictionaries\n",
    "my_dict = {'john': 2,'johnny':3}"
   ]
  },
  {
   "cell_type": "code",
   "execution_count": 13,
   "metadata": {},
   "outputs": [
    {
     "data": {
      "text/plain": [
       "dict"
      ]
     },
     "execution_count": 13,
     "metadata": {},
     "output_type": "execute_result"
    }
   ],
   "source": [
    "type(my_dict)"
   ]
  },
  {
   "cell_type": "code",
   "execution_count": 14,
   "metadata": {},
   "outputs": [
    {
     "name": "stdout",
     "output_type": "stream",
     "text": [
      "7\n"
     ]
    },
    {
     "data": {
      "text/plain": [
       "'7'"
      ]
     },
     "execution_count": 14,
     "metadata": {},
     "output_type": "execute_result"
    }
   ],
   "source": [
    "print(7)\n",
    "str(7)"
   ]
  },
  {
   "cell_type": "code",
   "execution_count": 15,
   "metadata": {},
   "outputs": [
    {
     "data": {
      "text/plain": [
       "'5 hi'"
      ]
     },
     "execution_count": 15,
     "metadata": {},
     "output_type": "execute_result"
    }
   ],
   "source": [
    "num=5\n",
    "string = ' hi'\n",
    "str(num)+string"
   ]
  },
  {
   "cell_type": "markdown",
   "metadata": {},
   "source": [
    "***\n",
    "operations : +  -  *  /  **  %\n",
    "comparsion: >  <  >=  <=  ==  !=\n",
    "logical operators: and   or\n",
    "***\n",
    "\n"
   ]
  },
  {
   "cell_type": "code",
   "execution_count": 16,
   "metadata": {},
   "outputs": [
    {
     "name": "stdout",
     "output_type": "stream",
     "text": [
      "John is 30 and his hobby is hiking \n"
     ]
    }
   ],
   "source": [
    "#format\n",
    "\n",
    "name = 'John'\n",
    "age = '30'\n",
    "hobby = 'hiking'\n",
    "\n",
    "print(\"{} is {} and his hobby is {} \".format(name,age,hobby))"
   ]
  },
  {
   "cell_type": "code",
   "execution_count": 17,
   "metadata": {},
   "outputs": [
    {
     "name": "stdout",
     "output_type": "stream",
     "text": [
      "Your name: anish\n",
      "Enter the first number: 1\n",
      "Enter the second number: 2\n",
      "Enter the third number: 3\n",
      " Your name is anish , you have entered 1,2&3 and the result is 9\n"
     ]
    }
   ],
   "source": [
    "Name = input(\"Your name: \")\n",
    "Number1 = int(input(\"Enter the first number: \"))\n",
    "Number2 = int(input(\"Enter the second number: \"))\n",
    "Number3 = int(input(\"Enter the third number: \"))\n",
    "result = (Number1+Number2)*Number3\n",
    "print(\" Your name is {} , you have entered {},{}&{} and the result is {}\".format(Name,Number1,Number2,Number3,result))"
   ]
  },
  {
   "cell_type": "code",
   "execution_count": 18,
   "metadata": {},
   "outputs": [
    {
     "name": "stdout",
     "output_type": "stream",
     "text": [
      "Enter weight in pounds: 50\n",
      "In kgs it is 22.6796 \n"
     ]
    }
   ],
   "source": [
    "pound = int(input(\"Enter weight in pounds: \"))\n",
    "kg = 0.453592*pound\n",
    "print(\"In kgs it is {} \".format(kg))"
   ]
  },
  {
   "cell_type": "code",
   "execution_count": 19,
   "metadata": {},
   "outputs": [],
   "source": [
    "#Modules\n",
    "import random as rn"
   ]
  },
  {
   "cell_type": "code",
   "execution_count": 20,
   "metadata": {},
   "outputs": [
    {
     "data": {
      "text/plain": [
       "11"
      ]
     },
     "execution_count": 20,
     "metadata": {},
     "output_type": "execute_result"
    }
   ],
   "source": [
    "rn.randint(10,20)"
   ]
  },
  {
   "cell_type": "code",
   "execution_count": 21,
   "metadata": {},
   "outputs": [
    {
     "name": "stdout",
     "output_type": "stream",
     "text": [
      "First dices rolled:1 Second dices rolled:1 ,Combined total = 2\n"
     ]
    }
   ],
   "source": [
    "roll4 = rn.randint(1,6)    #pratical\n",
    "roll5 = rn.randint(1,6)\n",
    "tot = roll4 + roll5\n",
    "print(\"First dices rolled:{} Second dices rolled:{} ,Combined total = {}\".format(roll4,roll5,tot))"
   ]
  },
  {
   "cell_type": "code",
   "execution_count": 22,
   "metadata": {},
   "outputs": [
    {
     "name": "stdout",
     "output_type": "stream",
     "text": [
      "Everything is fine\n"
     ]
    }
   ],
   "source": [
    "#if/elif/else\n",
    "max_temp = 40\n",
    "min_temp = 10\n",
    "current_temp = 30\n",
    "\n",
    "if current_temp > max_temp:\n",
    "    print(\"Above safe level\")\n",
    "elif current_temp < min_temp:\n",
    "    print(\"Temp levels low\")\n",
    "else:\n",
    "    print(\"Everything is fine\")"
   ]
  },
  {
   "cell_type": "code",
   "execution_count": 23,
   "metadata": {},
   "outputs": [
    {
     "name": "stdout",
     "output_type": "stream",
     "text": [
      "What is your guess:5\n",
      "Your guess was less than actual number.\n",
      "Your guess is 5 , The number is 10\n"
     ]
    }
   ],
   "source": [
    "#pratical\n",
    "numb = rn.randint(1,10)\n",
    "user = int(input(\"What is your guess:\"))\n",
    "if user == numb:\n",
    "    print(\"You made a correct guess\")\n",
    "elif user < numb:\n",
    "    print(\"Your guess was less than actual number.\")\n",
    "elif user > numb:\n",
    "    print(\"Your guess was high than actual number.\")\n",
    "print(\"Your guess is {} , The number is {}\".format(user,numb))"
   ]
  },
  {
   "cell_type": "code",
   "execution_count": 24,
   "metadata": {},
   "outputs": [
    {
     "name": "stdout",
     "output_type": "stream",
     "text": [
      "green and left hand\n"
     ]
    }
   ],
   "source": [
    "#pratical\n",
    "color = [\"red\",\"green\",\"blue\",\"yellow\"]\n",
    "parts = [\"left leg\",\"left hand\",\"right leg\",\"right hand\"]\n",
    "print(rn.choice(color) + \" and \" + rn.choice(parts))"
   ]
  },
  {
   "cell_type": "code",
   "execution_count": 25,
   "metadata": {},
   "outputs": [],
   "source": [
    "#List Methods\n",
    "mylist = [1,56,4,32]"
   ]
  },
  {
   "cell_type": "code",
   "execution_count": 26,
   "metadata": {},
   "outputs": [
    {
     "name": "stdout",
     "output_type": "stream",
     "text": [
      "[1, 56, 4, 32, 1000]\n"
     ]
    }
   ],
   "source": [
    "#append\n",
    "mylist.append(1000)\n",
    "print(mylist)"
   ]
  },
  {
   "cell_type": "code",
   "execution_count": 27,
   "metadata": {},
   "outputs": [
    {
     "name": "stdout",
     "output_type": "stream",
     "text": [
      "[56, 4, 32, 1000]\n"
     ]
    }
   ],
   "source": [
    "#remove\n",
    "mylist.remove(1)\n",
    "print(mylist)"
   ]
  },
  {
   "cell_type": "code",
   "execution_count": 28,
   "metadata": {},
   "outputs": [
    {
     "name": "stdout",
     "output_type": "stream",
     "text": [
      "[56, 4, 32]\n"
     ]
    }
   ],
   "source": [
    "#pop\n",
    "mylist.pop()\n",
    "print(mylist)"
   ]
  },
  {
   "cell_type": "code",
   "execution_count": 29,
   "metadata": {},
   "outputs": [
    {
     "name": "stdout",
     "output_type": "stream",
     "text": [
      "[4, 32, 56]\n"
     ]
    }
   ],
   "source": [
    "#sort\n",
    "mylist.sort()\n",
    "print(mylist)"
   ]
  },
  {
   "cell_type": "code",
   "execution_count": 30,
   "metadata": {},
   "outputs": [
    {
     "name": "stdout",
     "output_type": "stream",
     "text": [
      "[56, 32, 4]\n"
     ]
    }
   ],
   "source": [
    "#reverse\n",
    "mylist.reverse()\n",
    "print(mylist)"
   ]
  },
  {
   "cell_type": "code",
   "execution_count": 31,
   "metadata": {},
   "outputs": [
    {
     "data": {
      "text/plain": [
       "3"
      ]
     },
     "execution_count": 31,
     "metadata": {},
     "output_type": "execute_result"
    }
   ],
   "source": [
    "#List functions\n",
    "#Length \n",
    "len(mylist)"
   ]
  },
  {
   "cell_type": "code",
   "execution_count": 32,
   "metadata": {},
   "outputs": [
    {
     "data": {
      "text/plain": [
       "4"
      ]
     },
     "execution_count": 32,
     "metadata": {},
     "output_type": "execute_result"
    }
   ],
   "source": [
    "#min\n",
    "min(mylist)"
   ]
  },
  {
   "cell_type": "code",
   "execution_count": 33,
   "metadata": {},
   "outputs": [
    {
     "data": {
      "text/plain": [
       "56"
      ]
     },
     "execution_count": 33,
     "metadata": {},
     "output_type": "execute_result"
    }
   ],
   "source": [
    "#max\n",
    "max(mylist)"
   ]
  },
  {
   "cell_type": "code",
   "execution_count": 34,
   "metadata": {},
   "outputs": [
    {
     "name": "stdout",
     "output_type": "stream",
     "text": [
      "7\n",
      "2\n"
     ]
    }
   ],
   "source": [
    "#list indexes\n",
    "mylist1 = [1,4,7,[2,3,4,5],8,9]\n",
    "a = mylist1[2]\n",
    "b = mylist1[3][0]\n",
    "print(a)\n",
    "print(b)"
   ]
  },
  {
   "cell_type": "code",
   "execution_count": 35,
   "metadata": {},
   "outputs": [
    {
     "data": {
      "text/plain": [
       "[66, 'bear', 'cheese', 7000]"
      ]
     },
     "execution_count": 35,
     "metadata": {},
     "output_type": "execute_result"
    }
   ],
   "source": [
    "#list slicing\n",
    "mylist2 = [1,66,7,'bear',5700,'cheese',8,7000,11,43]\n",
    "mylist2[1:8:2]"
   ]
  },
  {
   "cell_type": "code",
   "execution_count": 36,
   "metadata": {},
   "outputs": [],
   "source": [
    "#pratical\n",
    "list1=[1,2,3,4]"
   ]
  },
  {
   "cell_type": "code",
   "execution_count": 37,
   "metadata": {},
   "outputs": [
    {
     "name": "stdout",
     "output_type": "stream",
     "text": [
      "[1, 2, 3]\n"
     ]
    }
   ],
   "source": [
    "list1.pop()\n",
    "print(list1)"
   ]
  },
  {
   "cell_type": "code",
   "execution_count": 38,
   "metadata": {},
   "outputs": [],
   "source": [
    "list1.append([9,0,11,12])"
   ]
  },
  {
   "cell_type": "code",
   "execution_count": 39,
   "metadata": {},
   "outputs": [
    {
     "name": "stdout",
     "output_type": "stream",
     "text": [
      "[1, 2, 3, [9, 0, 11, 12]]\n"
     ]
    }
   ],
   "source": [
    "print(list1)"
   ]
  },
  {
   "cell_type": "code",
   "execution_count": 40,
   "metadata": {},
   "outputs": [
    {
     "ename": "IndexError",
     "evalue": "list index out of range",
     "output_type": "error",
     "traceback": [
      "\u001b[1;31m---------------------------------------------------------------------------\u001b[0m",
      "\u001b[1;31mIndexError\u001b[0m                                Traceback (most recent call last)",
      "\u001b[1;32m<ipython-input-40-23d15be038c0>\u001b[0m in \u001b[0;36m<module>\u001b[1;34m\u001b[0m\n\u001b[1;32m----> 1\u001b[1;33m \u001b[0mz\u001b[0m\u001b[1;33m=\u001b[0m\u001b[0mlist1\u001b[0m\u001b[1;33m[\u001b[0m\u001b[1;36m4\u001b[0m\u001b[1;33m]\u001b[0m\u001b[1;33m[\u001b[0m\u001b[1;33m:\u001b[0m\u001b[1;36m2\u001b[0m\u001b[1;33m]\u001b[0m\u001b[1;33m\u001b[0m\u001b[1;33m\u001b[0m\u001b[0m\n\u001b[0m\u001b[0;32m      2\u001b[0m \u001b[0mz\u001b[0m\u001b[1;33m[\u001b[0m\u001b[1;33m:\u001b[0m\u001b[1;33m:\u001b[0m\u001b[1;33m-\u001b[0m\u001b[1;36m1\u001b[0m\u001b[1;33m]\u001b[0m\u001b[1;33m\u001b[0m\u001b[1;33m\u001b[0m\u001b[0m\n",
      "\u001b[1;31mIndexError\u001b[0m: list index out of range"
     ]
    }
   ],
   "source": [
    "z=list1[4][:2]\n",
    "z[::-1]"
   ]
  },
  {
   "cell_type": "code",
   "execution_count": null,
   "metadata": {},
   "outputs": [],
   "source": [
    "y = list1[5][1:]"
   ]
  },
  {
   "cell_type": "code",
   "execution_count": null,
   "metadata": {},
   "outputs": [],
   "source": [
    "y[::-1]"
   ]
  },
  {
   "cell_type": "code",
   "execution_count": null,
   "metadata": {},
   "outputs": [],
   "source": [
    "#for loop\n",
    "#Executing code a certain number of times\n",
    "for i in range(10):\n",
    "    print(\"Elements are : {}\".format(i))"
   ]
  },
  {
   "cell_type": "code",
   "execution_count": null,
   "metadata": {},
   "outputs": [],
   "source": [
    "#Iterationg through datasets(e.g.lists)\n",
    "my_list = [1,2,3,4,5,6]\n",
    "for j in my_list:\n",
    "    print(j)"
   ]
  },
  {
   "cell_type": "code",
   "execution_count": null,
   "metadata": {},
   "outputs": [],
   "source": [
    "#continue and break\n",
    "fruit_list = [\"apple\",\"pear\",\"banana\",\"kiwi\"]"
   ]
  },
  {
   "cell_type": "code",
   "execution_count": null,
   "metadata": {},
   "outputs": [],
   "source": [
    "for fruit in fruit_list:\n",
    "    if fruit == \"banana\":\n",
    "        continue\n",
    "    else:\n",
    "        print(fruit)"
   ]
  },
  {
   "cell_type": "code",
   "execution_count": null,
   "metadata": {},
   "outputs": [],
   "source": [
    "for fruit in fruit_list:\n",
    "    if fruit == \"banana\":\n",
    "        break\n",
    "    else:\n",
    "        print(fruit)"
   ]
  },
  {
   "cell_type": "code",
   "execution_count": null,
   "metadata": {},
   "outputs": [],
   "source": [
    "#list comprehension\n"
   ]
  },
  {
   "cell_type": "code",
   "execution_count": null,
   "metadata": {},
   "outputs": [],
   "source": [
    "#Quick way to create new lists\n",
    "list1 = [i for i in range(5)]\n",
    "print(list1)"
   ]
  },
  {
   "cell_type": "code",
   "execution_count": null,
   "metadata": {},
   "outputs": [],
   "source": [
    "#Quick way to create new lists with conditions (if x%2==0)\n",
    "my_odd_list = [j for j in range(15) if j%2!=0]\n",
    "print(my_odd_list)"
   ]
  },
  {
   "cell_type": "code",
   "execution_count": null,
   "metadata": {},
   "outputs": [],
   "source": [
    "#Means to filter through a list with new conditions\n",
    "new_fruit = [fruit for fruit in fruit_list if fruit!= \"banana\"]\n",
    "print(new_fruit)"
   ]
  },
  {
   "cell_type": "code",
   "execution_count": null,
   "metadata": {},
   "outputs": [],
   "source": [
    "#Tuple() and Sets{}\n",
    "my_list5 = [1,2,3,4,5]\n",
    "my_list5[1]=100\n",
    "print(my_list5)"
   ]
  },
  {
   "cell_type": "code",
   "execution_count": null,
   "metadata": {},
   "outputs": [],
   "source": [
    "#in tuples u cant change the values once delaraced\n",
    "my_tuple = (1,2,3,4,5)\n",
    "my_tuple[1] = 100"
   ]
  },
  {
   "cell_type": "code",
   "execution_count": null,
   "metadata": {},
   "outputs": [],
   "source": [
    "# in sets all the values in the list when printed gives only once and in sorted manner\n",
    "my_set = {22,1,2,3,22,4,4,4,'tiger','tiger'}\n",
    "print(my_set)"
   ]
  },
  {
   "cell_type": "code",
   "execution_count": null,
   "metadata": {},
   "outputs": [],
   "source": [
    "#Dictoraries\n",
    "my_dict = {'john':30,'Anna':29,'Fiona':29}\n"
   ]
  },
  {
   "cell_type": "code",
   "execution_count": null,
   "metadata": {},
   "outputs": [],
   "source": [
    "my_dict['Anna']"
   ]
  },
  {
   "cell_type": "code",
   "execution_count": null,
   "metadata": {},
   "outputs": [],
   "source": [
    "for pair in my_dict:\n",
    "    print(pair)"
   ]
  },
  {
   "cell_type": "code",
   "execution_count": null,
   "metadata": {},
   "outputs": [],
   "source": [
    "for pair in my_dict:\n",
    "    print(my_dict[pair])"
   ]
  },
  {
   "cell_type": "code",
   "execution_count": null,
   "metadata": {},
   "outputs": [],
   "source": [
    "#adding an element in a dict\n",
    "my_dict['phil'] = 26\n",
    "print(my_dict)"
   ]
  },
  {
   "cell_type": "code",
   "execution_count": null,
   "metadata": {},
   "outputs": [],
   "source": [
    "#deleting an element from a list \n",
    "my_dict.pop('phil')"
   ]
  },
  {
   "cell_type": "code",
   "execution_count": null,
   "metadata": {},
   "outputs": [],
   "source": [
    "print(my_dict)"
   ]
  },
  {
   "cell_type": "code",
   "execution_count": null,
   "metadata": {},
   "outputs": [],
   "source": [
    "#pratical\n",
    "currency = {'usd':75.22,'pound':101.02,'yen':1.52,'dirham':20.45 }"
   ]
  },
  {
   "cell_type": "code",
   "execution_count": null,
   "metadata": {},
   "outputs": [],
   "source": [
    "user_in = int(input(\"Enter amount in INR: \"))\n",
    "convert_currency = input(\"Enter the currency they want to convert INR to: \")\n",
    "\n",
    "if convert_currency == 'usd':    \n",
    "    converted = user_in * currency[convert_currency]\n",
    "elif convert_currency == 'pound':\n",
    "    converted = user_in * currency[convert_currency]\n",
    "elif convert_currency == 'yen':\n",
    "    converted = user_in * currency[convert_currency]\n",
    "elif convert_currency == 'dirham':\n",
    "    converted = user_in * currency[convert_currency]\n",
    "else:\n",
    "    print(\"Enter currency in usd ,pound ,yen or dirham\")\n",
    "print(\"{} INR = {}{} \".format(user_in,converted,convert_currency))"
   ]
  },
  {
   "cell_type": "code",
   "execution_count": null,
   "metadata": {},
   "outputs": [],
   "source": [
    "#while loop in games\n",
    "play = True\n",
    "\n",
    "while play == True:\n",
    "    real_number = 10\n",
    "    user_guess = int(input(\"Enter your guess: \"))\n",
    "    if real_number == user_guess:\n",
    "        play = False\n",
    "print(\"Game ended\")"
   ]
  },
  {
   "cell_type": "code",
   "execution_count": null,
   "metadata": {},
   "outputs": [],
   "source": [
    "import random as rn"
   ]
  },
  {
   "cell_type": "code",
   "execution_count": null,
   "metadata": {},
   "outputs": [],
   "source": [
    "play = True\n",
    "computer = rn.randint(1,10)\n",
    "\n",
    "while play == True:\n",
    "    user_guess = int(input(\"Enter your guess (from 1 to 10): \"))\n",
    "    if user_guess != computer:\n",
    "        print(\"try again\")\n",
    "    else:\n",
    "        print(\"You have guessed it correct\")\n",
    "        break\n",
    "        \n",
    "    "
   ]
  },
  {
   "cell_type": "code",
   "execution_count": null,
   "metadata": {},
   "outputs": [],
   "source": [
    "#practical\n",
    "life = 5\n",
    "computer = rn.randint(1,15)\n",
    "\n",
    "while play == True:\n",
    "    user_guess = int(input(\"Enter your guess (from 1 to 15): \"))\n",
    "    if user_guess != computer:\n",
    "        life = life - 1\n",
    "        print(\"Life remaining = {}\".format(life))\n",
    "        if(life == 0):\n",
    "            print(\"Game over\")\n",
    "            break\n",
    "        else:\n",
    "            print(\"try again\")\n",
    "    else:\n",
    "        print(\"You have guessed it correct\")\n",
    "        print(\"Life remaining = {}\".format(life))\n",
    "        break\n",
    "        \n"
   ]
  },
  {
   "cell_type": "markdown",
   "metadata": {},
   "source": [
    "#functions\n",
    "#instead of \n",
    "\n",
    "\n",
    "'''\n",
    "\n",
    "if person = 'bill':\n",
    "    print(\"have a good day\")\n",
    "elif person = 'mindy':\n",
    "    print(\"have a good day\")\n",
    "...n so on\n",
    "    \n",
    "use functions\n",
    "'''"
   ]
  },
  {
   "cell_type": "code",
   "execution_count": null,
   "metadata": {},
   "outputs": [],
   "source": [
    "def welcome_function():\n",
    "    print(\"Have a good day\")"
   ]
  },
  {
   "cell_type": "code",
   "execution_count": null,
   "metadata": {},
   "outputs": [],
   "source": [
    "person = 'id'\n",
    "if person == 'bill':\n",
    "    welcome_function()\n",
    "elif person == 'mindy':\n",
    "    welcome_function()\n",
    "else:\n",
    "    print(\"Wassup\")\n",
    "        "
   ]
  },
  {
   "cell_type": "code",
   "execution_count": null,
   "metadata": {},
   "outputs": [],
   "source": [
    "#function paramaters\n",
    "def multiplier(first,sec):\n",
    "    third = first * sec\n",
    "    print(third)"
   ]
  },
  {
   "cell_type": "code",
   "execution_count": null,
   "metadata": {},
   "outputs": [],
   "source": [
    "multiplier(4,7)"
   ]
  },
  {
   "cell_type": "code",
   "execution_count": null,
   "metadata": {},
   "outputs": [],
   "source": [
    "def greet(name):\n",
    "    print(\"Hello {},Have a good day\".format(name))"
   ]
  },
  {
   "cell_type": "code",
   "execution_count": null,
   "metadata": {},
   "outputs": [],
   "source": [
    "greet('Anish')"
   ]
  },
  {
   "cell_type": "code",
   "execution_count": 41,
   "metadata": {},
   "outputs": [
    {
     "data": {
      "text/plain": [
       "<Response [200]>"
      ]
     },
     "execution_count": 41,
     "metadata": {},
     "output_type": "execute_result"
    }
   ],
   "source": [
    "#requests\n",
    "import requests\n",
    "url = 'http://www.google.com'\n",
    "requests.get(url)"
   ]
  },
  {
   "cell_type": "code",
   "execution_count": 42,
   "metadata": {},
   "outputs": [
    {
     "data": {
      "text/plain": [
       "b'<!doctype html><html itemscope=\"\" itemtype=\"http://schema.org/WebPage\" lang=\"en-IN\"><head><meta content=\"text/html; charset=UTF-8\" http-equiv=\"Content-Type\"><meta content=\"/images/branding/googleg/1x/googleg_standard_color_128dp.png\" itemprop=\"image\"><title>Google</title><script nonce=\"fECzbmQhJoCu04MjvaqkIg==\">(function(){window.google={kEI:\\'HRHdYZzBKvrM1sQP2ve1gAU\\',kEXPI:\\'0,1302536,56873,6059,206,2415,2389,2316,383,246,5,1354,4013,1238,1122515,1197724,380767,16114,17444,11240,17572,4859,1361,9290,3025,2820,1929,12835,4020,978,13228,3847,4192,6430,21822,919,5081,1593,1279,2212,530,149,1103,840,2197,4100,3514,606,2023,1777,520,6344,8326,3227,2845,7,5599,6755,5096,16320,908,2,940,15757,3,346,230,1014,1,5445,148,11323,2652,4,2183,1638,11,6462,577,74,4610,17339,3050,2658,7357,30,13628,2305,2132,16786,2521,3291,2545,4094,3138,6,908,3,3541,1,11942,4582,283,38,874,5992,18443,2,14022,1931,784,255,2872,407,1271,744,5852,9320,1143,1160,5678,1022,2380,2718,18234,63,2,2,5,5545,2172,2124,2444,2578,2787,891,6720,11911,4788,1254,17096,601,484,2621,2916,1417,8,2762,1615,292,203,80,1130,1831,8,2,2,1,1407,356,1227,4187,3612,167,1543,585,2083,303,478,1,370,4,212,2,106,576,93,330,2,1,2734,65,631,3,1241,167,892,6,2,565,187,386,868,1002,238,320,726,2356,3925,478,205,145,102,11,858,815,511,2663,2,204,5,1034,370,6,618,23,169,177,2,1290,645,2,1445,1491,1505,198,459,805,509,928,67,938,5502484,3893,101,956,5996258,257,2799116,1323,882,444,1,2,80,1,1796,1,9,2553,1,748,141,795,563,1,4265,1,1,2,1331,4142,2609,155,17,13,72,139,4,2,20,2,169,13,19,46,5,39,96,548,29,2,2,1,2,1,2,2,7,4,1,2,2,2,2,2,2,353,513,186,1,1,158,3,2,2,2,2,2,4,2,3,3,269,1601,141,67,56,4,9,64,4,11,8,34,23952724,2773819,1267870,3,2414,1008,483,9,1435,159,1358,406,722,2,3596,3,927,247,7,1282,201,1732\\',kBL:\\'4JUY\\'};google.sn=\\'webhp\\';google.kHL=\\'en-IN\\';})();(function(){\\nvar f=this||self;var h,k=[];function l(a){for(var b;a&&(!a.getAttribute||!(b=a.getAttribute(\"eid\")));)a=a.parentNode;return b||h}function m(a){for(var b=null;a&&(!a.getAttribute||!(b=a.getAttribute(\"leid\")));)a=a.parentNode;return b}\\nfunction n(a,b,c,d,g){var e=\"\";c||-1!==b.search(\"&ei=\")||(e=\"&ei=\"+l(d),-1===b.search(\"&lei=\")&&(d=m(d))&&(e+=\"&lei=\"+d));d=\"\";!c&&f._cshid&&-1===b.search(\"&cshid=\")&&\"slh\"!==a&&(d=\"&cshid=\"+f._cshid);c=c||\"/\"+(g||\"gen_204\")+\"?atyp=i&ct=\"+a+\"&cad=\"+b+e+\"&zx=\"+Date.now()+d;/^http:/i.test(c)&&\"https:\"===window.location.protocol&&(google.ml&&google.ml(Error(\"a\"),!1,{src:c,glmm:1}),c=\"\");return c};h=google.kEI;google.getEI=l;google.getLEI=m;google.ml=function(){return null};google.log=function(a,b,c,d,g){if(c=n(a,b,c,d,g)){a=new Image;var e=k.length;k[e]=a;a.onerror=a.onload=a.onabort=function(){delete k[e]};a.src=c}};google.logUrl=n;}).call(this);(function(){\\ngoogle.y={};google.sy=[];google.x=function(a,b){if(a)var c=a.id;else{do c=Math.random();while(google.y[c])}google.y[c]=[a,b];return!1};google.sx=function(a){google.sy.push(a)};google.lm=[];google.plm=function(a){google.lm.push.apply(google.lm,a)};google.lq=[];google.load=function(a,b,c){google.lq.push([[a],b,c])};google.loadAll=function(a,b){google.lq.push([a,b])};google.bx=!1;google.lx=function(){};}).call(this);google.f={};(function(){\\ndocument.documentElement.addEventListener(\"submit\",function(b){var a;if(a=b.target){var c=a.getAttribute(\"data-submitfalse\");a=\"1\"===c||\"q\"===c&&!a.elements.q.value?!0:!1}else a=!1;a&&(b.preventDefault(),b.stopPropagation())},!0);document.documentElement.addEventListener(\"click\",function(b){var a;a:{for(a=b.target;a&&a!==document.documentElement;a=a.parentElement)if(\"A\"===a.tagName){a=\"1\"===a.getAttribute(\"data-nohref\");break a}a=!1}a&&b.preventDefault()},!0);}).call(this);</script><style>#gbar,#guser{font-size:13px;padding-top:1px !important;}#gbar{height:22px}#guser{padding-bottom:7px !important;text-align:right}.gbh,.gbd{border-top:1px solid #c9d7f1;font-size:1px}.gbh{height:0;position:absolute;top:24px;width:100%}@media all{.gb1{height:22px;margin-right:.5em;vertical-align:top}#gbar{float:left}}a.gb1,a.gb4{text-decoration:underline !important}a.gb1,a.gb4{color:#00c !important}.gbi .gb4{color:#dd8e27 !important}.gbf .gb4{color:#900 !important}\\n</style><style>body,td,a,p,.h{font-family:arial,sans-serif}body{margin:0;overflow-y:scroll}#gog{padding:3px 8px 0}td{line-height:.8em}.gac_m td{line-height:17px}form{margin-bottom:20px}.h{color:#1558d6}em{font-weight:bold;font-style:normal}.lst{height:25px;width:496px}.gsfi,.lst{font:18px arial,sans-serif}.gsfs{font:17px arial,sans-serif}.ds{display:inline-box;display:inline-block;margin:3px 0 4px;margin-left:4px}input{font-family:inherit}body{background:#fff;color:#000}a{color:#4b11a8;text-decoration:none}a:hover,a:active{text-decoration:underline}.fl a{color:#1558d6}a:visited{color:#4b11a8}.sblc{padding-top:5px}.sblc a{display:block;margin:2px 0;margin-left:13px;font-size:11px}.lsbb{background:#f8f9fa;border:solid 1px;border-color:#dadce0 #70757a #70757a #dadce0;height:30px}.lsbb{display:block}#WqQANb a{display:inline-block;margin:0 12px}.lsb{background:url(/images/nav_logo229.png) 0 -261px repeat-x;border:none;color:#000;cursor:pointer;height:30px;margin:0;outline:0;font:15px arial,sans-serif;vertical-align:top}.lsb:active{background:#dadce0}.lst:focus{outline:none}</style><script nonce=\"fECzbmQhJoCu04MjvaqkIg==\">(function(){window.google.erd={jsr:1,bv:1493,de:true};\\nvar f=this||self;var g,h,k=null!==(g=f.mei)&&void 0!==g?g:1,l=null!==(h=f.sdo)&&void 0!==h?h:!0,p=0,q,r=google.erd,u=r.jsr;google.ml=function(a,b,d,m,c){c=void 0===c?2:c;b&&(q=a&&a.message);if(google.dl)return google.dl(a,c,d),null;if(0>u){window.console&&console.error(a,d);if(-2===u)throw a;b=!1}else b=!a||!a.message||\"Error loading script\"===a.message||p>=k&&!m?!1:!0;if(!b)return null;p++;d=d||{};var e=c;c=encodeURIComponent;b=\"/gen_204?atyp=i&ei=\"+c(google.kEI);google.kEXPI&&(b+=\"&jexpid=\"+c(google.kEXPI));b+=\"&srcpg=\"+c(google.sn)+\"&jsr=\"+c(r.jsr)+\"&bver=\"+c(r.bv)+(\"&jsel=\"+e);e=a.lineNumber;void 0!==e&&(b+=\"&line=\"+\\ne);var n=a.fileName;n&&(b+=\"&script=\"+c(n),e&&n===window.location.href&&(e=document.documentElement.outerHTML.split(\"\\\\n\")[e],b+=\"&cad=\"+c(e?e.substring(0,300):\"No script found.\")));for(var t in d)b+=\"&\",b+=c(t),b+=\"=\",b+=c(d[t]);b=b+\"&emsg=\"+c(a.name+\": \"+a.message);b=b+\"&jsst=\"+c(a.stack||\"N/A\");12288<=b.length&&(b=b.substr(0,12288));a=b;m||google.log(0,\"\",a);return a};window.onerror=function(a,b,d,m,c){q!==a&&(a=c instanceof Error?c:Error(a),void 0===d||\"lineNumber\"in a||(a.lineNumber=d),void 0===b||\"fileName\"in a||(a.fileName=b),google.ml(a,!1,void 0,!1,\"SyntaxError\"===a.name||\"SyntaxError\"===a.message.substring(0,11)?2:0));q=null;l&&p>=k&&(window.onerror=null)};})();</script></head><body bgcolor=\"#fff\"><script nonce=\"fECzbmQhJoCu04MjvaqkIg==\">(function(){var src=\\'/images/nav_logo229.png\\';var iesg=false;document.body.onload = function(){window.n && window.n();if (document.images){new Image().src=src;}\\nif (!iesg){document.f&&document.f.q.focus();document.gbqf&&document.gbqf.q.focus();}\\n}\\n})();</script><div id=\"mngb\"><div id=gbar><nobr><b class=gb1>Search</b> <a class=gb1 href=\"http://www.google.co.in/imghp?hl=en&tab=wi\">Images</a> <a class=gb1 href=\"http://maps.google.co.in/maps?hl=en&tab=wl\">Maps</a> <a class=gb1 href=\"https://play.google.com/?hl=en&tab=w8\">Play</a> <a class=gb1 href=\"http://www.youtube.com/?gl=IN&tab=w1\">YouTube</a> <a class=gb1 href=\"https://news.google.com/?tab=wn\">News</a> <a class=gb1 href=\"https://mail.google.com/mail/?tab=wm\">Gmail</a> <a class=gb1 href=\"https://drive.google.com/?tab=wo\">Drive</a> <a class=gb1 style=\"text-decoration:none\" href=\"https://www.google.co.in/intl/en/about/products?tab=wh\"><u>More</u> &raquo;</a></nobr></div><div id=guser width=100%><nobr><span id=gbn class=gbi></span><span id=gbf class=gbf></span><span id=gbe></span><a href=\"http://www.google.co.in/history/optout?hl=en\" class=gb4>Web History</a> | <a  href=\"/preferences?hl=en\" class=gb4>Settings</a> | <a target=_top id=gb_70 href=\"https://accounts.google.com/ServiceLogin?hl=en&passive=true&continue=http://www.google.com/&ec=GAZAAQ\" class=gb4>Sign in</a></nobr></div><div class=gbh style=left:0></div><div class=gbh style=right:0></div></div><center><br clear=\"all\" id=\"lgpd\"><div id=\"lga\"><img alt=\"Google\" height=\"92\" src=\"/images/branding/googlelogo/1x/googlelogo_white_background_color_272x92dp.png\" style=\"padding:28px 0 14px\" width=\"272\" id=\"hplogo\"><br><br></div><form action=\"/search\" name=\"f\"><table cellpadding=\"0\" cellspacing=\"0\"><tr valign=\"top\"><td width=\"25%\">&nbsp;</td><td align=\"center\" nowrap=\"\"><input name=\"ie\" value=\"ISO-8859-1\" type=\"hidden\"><input value=\"en-IN\" name=\"hl\" type=\"hidden\"><input name=\"source\" type=\"hidden\" value=\"hp\"><input name=\"biw\" type=\"hidden\"><input name=\"bih\" type=\"hidden\"><div class=\"ds\" style=\"height:32px;margin:4px 0\"><input class=\"lst\" style=\"margin:0;padding:5px 8px 0 6px;vertical-align:top;color:#000\" autocomplete=\"off\" value=\"\" title=\"Google Search\" maxlength=\"2048\" name=\"q\" size=\"57\"></div><br style=\"line-height:0\"><span class=\"ds\"><span class=\"lsbb\"><input class=\"lsb\" value=\"Google Search\" name=\"btnG\" type=\"submit\"></span></span><span class=\"ds\"><span class=\"lsbb\"><input class=\"lsb\" id=\"tsuid1\" value=\"I\\'m Feeling Lucky\" name=\"btnI\" type=\"submit\"><script nonce=\"fECzbmQhJoCu04MjvaqkIg==\">(function(){var id=\\'tsuid1\\';document.getElementById(id).onclick = function(){if (this.form.q.value){this.checked = 1;if (this.form.iflsig)this.form.iflsig.disabled = false;}\\nelse top.location=\\'/doodles/\\';};})();</script><input value=\"ALs-wAMAAAAAYd0fLezEC9QwVpQ0Wgc174ifD5vM61DJ\" name=\"iflsig\" type=\"hidden\"></span></span></td><td class=\"fl sblc\" align=\"left\" nowrap=\"\" width=\"25%\"><a href=\"/advanced_search?hl=en-IN&amp;authuser=0\">Advanced search</a></td></tr></table><input id=\"gbv\" name=\"gbv\" type=\"hidden\" value=\"1\"><script nonce=\"fECzbmQhJoCu04MjvaqkIg==\">(function(){\\nvar a,b=\"1\";if(document&&document.getElementById)if(\"undefined\"!=typeof XMLHttpRequest)b=\"2\";else if(\"undefined\"!=typeof ActiveXObject){var c,d,e=[\"MSXML2.XMLHTTP.6.0\",\"MSXML2.XMLHTTP.3.0\",\"MSXML2.XMLHTTP\",\"Microsoft.XMLHTTP\"];for(c=0;d=e[c++];)try{new ActiveXObject(d),b=\"2\"}catch(h){}}a=b;if(\"2\"==a&&-1==location.search.indexOf(\"&gbv=2\")){var f=google.gbvu,g=document.getElementById(\"gbv\");g&&(g.value=a);f&&window.setTimeout(function(){location.href=f},0)};}).call(this);</script></form><div id=\"gac_scont\"></div><div style=\"font-size:83%;min-height:3.5em\"><br><div id=\"gws-output-pages-elements-homepage_additional_languages__als\"><style>#gws-output-pages-elements-homepage_additional_languages__als{font-size:small;margin-bottom:24px}#SIvCob{color:#3c4043;display:inline-block;line-height:28px;}#SIvCob a{padding:0 3px;}.H6sW5{display:inline-block;margin:0 2px;white-space:nowrap}.z4hgWe{display:inline-block;margin:0 2px}</style><div id=\"SIvCob\">Google offered in:  <a href=\"http://www.google.com/setprefs?sig=0_EC9-FREUhYUFWts3yCucPQtTTss%3D&amp;hl=hi&amp;source=homepage&amp;sa=X&amp;ved=0ahUKEwjcw62z96j1AhV6ppUCHdp7DVAQ2ZgBCAU\">&#2361;&#2367;&#2344;&#2381;&#2342;&#2368;</a>    <a href=\"http://www.google.com/setprefs?sig=0_EC9-FREUhYUFWts3yCucPQtTTss%3D&amp;hl=bn&amp;source=homepage&amp;sa=X&amp;ved=0ahUKEwjcw62z96j1AhV6ppUCHdp7DVAQ2ZgBCAY\">&#2476;&#2494;&#2434;&#2482;&#2494;</a>    <a href=\"http://www.google.com/setprefs?sig=0_EC9-FREUhYUFWts3yCucPQtTTss%3D&amp;hl=te&amp;source=homepage&amp;sa=X&amp;ved=0ahUKEwjcw62z96j1AhV6ppUCHdp7DVAQ2ZgBCAc\">&#3108;&#3142;&#3122;&#3137;&#3095;&#3137;</a>    <a href=\"http://www.google.com/setprefs?sig=0_EC9-FREUhYUFWts3yCucPQtTTss%3D&amp;hl=mr&amp;source=homepage&amp;sa=X&amp;ved=0ahUKEwjcw62z96j1AhV6ppUCHdp7DVAQ2ZgBCAg\">&#2350;&#2352;&#2366;&#2336;&#2368;</a>    <a href=\"http://www.google.com/setprefs?sig=0_EC9-FREUhYUFWts3yCucPQtTTss%3D&amp;hl=ta&amp;source=homepage&amp;sa=X&amp;ved=0ahUKEwjcw62z96j1AhV6ppUCHdp7DVAQ2ZgBCAk\">&#2980;&#2990;&#3007;&#2996;&#3021;</a>    <a href=\"http://www.google.com/setprefs?sig=0_EC9-FREUhYUFWts3yCucPQtTTss%3D&amp;hl=gu&amp;source=homepage&amp;sa=X&amp;ved=0ahUKEwjcw62z96j1AhV6ppUCHdp7DVAQ2ZgBCAo\">&#2711;&#2753;&#2716;&#2736;&#2750;&#2724;&#2752;</a>    <a href=\"http://www.google.com/setprefs?sig=0_EC9-FREUhYUFWts3yCucPQtTTss%3D&amp;hl=kn&amp;source=homepage&amp;sa=X&amp;ved=0ahUKEwjcw62z96j1AhV6ppUCHdp7DVAQ2ZgBCAs\">&#3221;&#3240;&#3277;&#3240;&#3233;</a>    <a href=\"http://www.google.com/setprefs?sig=0_EC9-FREUhYUFWts3yCucPQtTTss%3D&amp;hl=ml&amp;source=homepage&amp;sa=X&amp;ved=0ahUKEwjcw62z96j1AhV6ppUCHdp7DVAQ2ZgBCAw\">&#3374;&#3378;&#3375;&#3390;&#3379;&#3330;</a>    <a href=\"http://www.google.com/setprefs?sig=0_EC9-FREUhYUFWts3yCucPQtTTss%3D&amp;hl=pa&amp;source=homepage&amp;sa=X&amp;ved=0ahUKEwjcw62z96j1AhV6ppUCHdp7DVAQ2ZgBCA0\">&#2602;&#2672;&#2588;&#2622;&#2604;&#2624;</a>  </div></div></div><span id=\"footer\"><div style=\"font-size:10pt\"><div style=\"margin:19px auto;text-align:center\" id=\"WqQANb\"><a href=\"/intl/en/ads/\">Advertising\\xa0Programs</a><a href=\"http://www.google.co.in/services/\">Business Solutions</a><a href=\"/intl/en/about.html\">About Google</a><a href=\"http://www.google.com/setprefdomain?prefdom=IN&amp;prev=http://www.google.co.in/&amp;sig=K_Rl1QOb13L7BMQXMS2shmbGJLwXk%3D\">Google.co.in</a></div></div><p style=\"font-size:8pt;color:#70757a\">&copy; 2022 - <a href=\"/intl/en/policies/privacy/\">Privacy</a> - <a href=\"/intl/en/policies/terms/\">Terms</a></p></span></center><script nonce=\"fECzbmQhJoCu04MjvaqkIg==\">(function(){window.google.cdo={height:757,width:1440};(function(){\\nvar a=window.innerWidth,b=window.innerHeight;if(!a||!b){var c=window.document,d=\"CSS1Compat\"==c.compatMode?c.documentElement:c.body;a=d.clientWidth;b=d.clientHeight}a&&b&&(a!=google.cdo.width||b!=google.cdo.height)&&google.log(\"\",\"\",\"/client_204?&atyp=i&biw=\"+a+\"&bih=\"+b+\"&ei=\"+google.kEI);}).call(this);})();</script> <script nonce=\"fECzbmQhJoCu04MjvaqkIg==\">(function(){google.xjs={ck:\\'\\',cs:\\'\\',excm:[]};})();</script>  <script nonce=\"fECzbmQhJoCu04MjvaqkIg==\">(function(){var u=\\'/xjs/_/js/k\\\\x3dxjs.hp.en.8My0PvgdGIk.O/am\\\\x3dAPAEAEACkA/d\\\\x3d1/ed\\\\x3d1/esmo\\\\x3d1/rs\\\\x3dACT90oGepRzziWU7OPYV1h0N-nkjUkWXMg/m\\\\x3dsb_he,d\\';\\nvar e=this||self,f=function(a){return a};var g;var l=function(a,b){this.g=b===h?a:\"\"};l.prototype.toString=function(){return this.g+\"\"};var h={};\\nfunction m(){var a=u;google.lx=function(){n(a);google.lx=function(){}};google.bx||google.lx()}\\nfunction n(a){google.timers&&google.timers.load&&google.tick&&google.tick(\"load\",\"xjsls\");var b=document;var c=\"SCRIPT\";\"application/xhtml+xml\"===b.contentType&&(c=c.toLowerCase());c=b.createElement(c);if(void 0===g){b=null;var k=e.trustedTypes;if(k&&k.createPolicy){try{b=k.createPolicy(\"goog#html\",{createHTML:f,createScript:f,createScriptURL:f})}catch(p){e.console&&e.console.error(p.message)}g=b}else g=b}a=(b=g)?b.createScriptURL(a):a;a=new l(a,h);c.src=a instanceof l&&a.constructor===l?a.g:\"type_error:TrustedResourceUrl\";var d;a=(c.ownerDocument&&c.ownerDocument.defaultView||window).document;(d=(b=null===(d=a.querySelector)||void 0===d?void 0:d.call(a,\"script[nonce]\"))?b.nonce||b.getAttribute(\"nonce\")||\"\":\"\")&&c.setAttribute(\"nonce\",d);document.body.appendChild(c);google.psa=!0};google.xjsu=u;setTimeout(function(){m()},0);})();function _DumpException(e){throw e;}\\nfunction _F_installCss(c){}\\n(function(){google.jl={attn:false,blt:\\'none\\',chnk:0,dw:false,dwu:true,emtn:0,end:0,ine:false,lls:\\'default\\',pdt:0,rep:0,snet:true,strt:0,ubm:false,uwp:true};})();(function(){var pmc=\\'{\\\\x22d\\\\x22:{},\\\\x22sb_he\\\\x22:{\\\\x22agen\\\\x22:true,\\\\x22cgen\\\\x22:true,\\\\x22client\\\\x22:\\\\x22heirloom-hp\\\\x22,\\\\x22dh\\\\x22:true,\\\\x22dhqt\\\\x22:true,\\\\x22ds\\\\x22:\\\\x22\\\\x22,\\\\x22ffql\\\\x22:\\\\x22en\\\\x22,\\\\x22fl\\\\x22:true,\\\\x22host\\\\x22:\\\\x22google.com\\\\x22,\\\\x22isbh\\\\x22:28,\\\\x22jsonp\\\\x22:true,\\\\x22msgs\\\\x22:{\\\\x22cibl\\\\x22:\\\\x22Clear Search\\\\x22,\\\\x22dym\\\\x22:\\\\x22Did you mean:\\\\x22,\\\\x22lcky\\\\x22:\\\\x22I\\\\\\\\u0026#39;m Feeling Lucky\\\\x22,\\\\x22lml\\\\x22:\\\\x22Learn more\\\\x22,\\\\x22oskt\\\\x22:\\\\x22Input tools\\\\x22,\\\\x22psrc\\\\x22:\\\\x22This search was removed from your \\\\\\\\u003Ca href\\\\x3d\\\\\\\\\\\\x22/history\\\\\\\\\\\\x22\\\\\\\\u003EWeb History\\\\\\\\u003C/a\\\\\\\\u003E\\\\x22,\\\\x22psrl\\\\x22:\\\\x22Remove\\\\x22,\\\\x22sbit\\\\x22:\\\\x22Search by image\\\\x22,\\\\x22srch\\\\x22:\\\\x22Google Search\\\\x22},\\\\x22ovr\\\\x22:{},\\\\x22pq\\\\x22:\\\\x22\\\\x22,\\\\x22refpd\\\\x22:true,\\\\x22rfs\\\\x22:[],\\\\x22sbas\\\\x22:\\\\x220 3px 8px 0 rgba(0,0,0,0.2),0 0 0 1px rgba(0,0,0,0.08)\\\\x22,\\\\x22sbpl\\\\x22:16,\\\\x22sbpr\\\\x22:16,\\\\x22scd\\\\x22:10,\\\\x22stok\\\\x22:\\\\x22sFdNPUge28ojS5b7yIHjoSasTJI\\\\x22,\\\\x22uhde\\\\x22:false}}\\';google.pmc=JSON.parse(pmc);})();</script>        </body></html>'"
      ]
     },
     "execution_count": 42,
     "metadata": {},
     "output_type": "execute_result"
    }
   ],
   "source": [
    "response = requests.get(url)\n",
    "response.content"
   ]
  },
  {
   "cell_type": "code",
   "execution_count": 43,
   "metadata": {},
   "outputs": [],
   "source": [
    "#json\n",
    "#example api = 'https://api.echangerate-api.com/v4/lastest/USD'\n",
    "#u have to know whether the website is in json form or not before only to use .json()\n",
    "#.json is like .content\n"
   ]
  },
  {
   "cell_type": "code",
   "execution_count": 44,
   "metadata": {},
   "outputs": [],
   "source": [
    "currencyurl = 'https://openexchangerates.org/api/currencies.json'\n",
    "response = requests.get(currencyurl)"
   ]
  },
  {
   "cell_type": "code",
   "execution_count": 45,
   "metadata": {},
   "outputs": [],
   "source": [
    "data = response.json()"
   ]
  },
  {
   "cell_type": "code",
   "execution_count": 46,
   "metadata": {},
   "outputs": [
    {
     "data": {
      "text/plain": [
       "'United Arab Emirates Dirham'"
      ]
     },
     "execution_count": 46,
     "metadata": {},
     "output_type": "execute_result"
    }
   ],
   "source": [
    "data['AED']"
   ]
  },
  {
   "cell_type": "code",
   "execution_count": 47,
   "metadata": {},
   "outputs": [],
   "source": [
    "#practical\n",
    "#access_key=d90ad37519a3bdb4be051e4c24457f54\n",
    "access_key='http://api.exchangeratesapi.io/v1/latest?access_key=d90ad37519a3bdb4be051e4c24457f54&format=1'\n",
    "response = requests.get(access_key)"
   ]
  },
  {
   "cell_type": "code",
   "execution_count": 48,
   "metadata": {},
   "outputs": [],
   "source": [
    "data=response.json()"
   ]
  },
  {
   "cell_type": "code",
   "execution_count": 54,
   "metadata": {},
   "outputs": [
    {
     "data": {
      "text/plain": [
       "4.165108"
      ]
     },
     "execution_count": 54,
     "metadata": {},
     "output_type": "execute_result"
    }
   ],
   "source": [
    "data['rates']['AED']"
   ]
  },
  {
   "cell_type": "code",
   "execution_count": 52,
   "metadata": {},
   "outputs": [
    {
     "name": "stdout",
     "output_type": "stream",
     "text": [
      "Which entry u want to convert ur currency to:aed\n",
      "How much u want to convert: 50\n",
      "208.2554\n"
     ]
    }
   ],
   "source": [
    "user_entry = input(\"Which entry u want to convert ur currency to:\").upper()\n",
    "convert = int(input(\"How much u want to convert: \"))\n",
    "output = data['rates'][user_entry]*convert\n",
    "print(\"{}\".format(output))"
   ]
  },
  {
   "cell_type": "code",
   "execution_count": null,
   "metadata": {},
   "outputs": [],
   "source": [
    "#creating a file and reading it\n",
    "new_file = open(\"new_story.txt\",'w')\n",
    "new_file.write('Hello,How you doing?')\n",
    "new_file.close()"
   ]
  },
  {
   "cell_type": "code",
   "execution_count": null,
   "metadata": {},
   "outputs": [],
   "source": [
    "file = open(\"new_story.txt\",'r')\n",
    "for i in file:\n",
    "    print(i)\n",
    "file.close()"
   ]
  },
  {
   "cell_type": "code",
   "execution_count": null,
   "metadata": {},
   "outputs": [],
   "source": [
    "#create own module\n"
   ]
  },
  {
   "cell_type": "code",
   "execution_count": null,
   "metadata": {},
   "outputs": [],
   "source": [
    "#OOPS\n",
    "#class\n"
   ]
  },
  {
   "cell_type": "code",
   "execution_count": 55,
   "metadata": {},
   "outputs": [],
   "source": [
    "class My_class:\n",
    "    z = 55\n",
    "    my_list = ['big one','small one']\n",
    "    name= \"Mr Potato leg\""
   ]
  },
  {
   "cell_type": "code",
   "execution_count": 56,
   "metadata": {},
   "outputs": [
    {
     "data": {
      "text/plain": [
       "55"
      ]
     },
     "execution_count": 56,
     "metadata": {},
     "output_type": "execute_result"
    }
   ],
   "source": [
    "My_class.z\n"
   ]
  },
  {
   "cell_type": "code",
   "execution_count": 57,
   "metadata": {},
   "outputs": [
    {
     "data": {
      "text/plain": [
       "['big one', 'small one']"
      ]
     },
     "execution_count": 57,
     "metadata": {},
     "output_type": "execute_result"
    }
   ],
   "source": [
    "My_class.my_list"
   ]
  },
  {
   "cell_type": "code",
   "execution_count": 59,
   "metadata": {},
   "outputs": [
    {
     "data": {
      "text/plain": [
       "'Mr Potato leg'"
      ]
     },
     "execution_count": 59,
     "metadata": {},
     "output_type": "execute_result"
    }
   ],
   "source": [
    "My_class.name"
   ]
  },
  {
   "cell_type": "code",
   "execution_count": 60,
   "metadata": {},
   "outputs": [],
   "source": [
    "#Methods in class\n",
    "class Methods:\n",
    "    z = 55\n",
    "    \n",
    "    def method():\n",
    "        print(\"Method is working!!!\")\n",
    "    \n",
    "    def sub(one,two):\n",
    "        three = one - two\n",
    "        print(\"{}-{} = {}\".format(one,two,three))"
   ]
  },
  {
   "cell_type": "code",
   "execution_count": 61,
   "metadata": {},
   "outputs": [
    {
     "name": "stdout",
     "output_type": "stream",
     "text": [
      "22-1 = 21\n"
     ]
    }
   ],
   "source": [
    "Methods.sub(22,1)"
   ]
  },
  {
   "cell_type": "code",
   "execution_count": 62,
   "metadata": {},
   "outputs": [],
   "source": [
    "# __init__\n",
    "#synatx = def __int__(self,........)\n",
    "class Animals:\n",
    "    def __init__(self,size,noice,legs):\n",
    "        self.size = size\n",
    "        self.noice = noice\n",
    "        self.legs = legs"
   ]
  },
  {
   "cell_type": "code",
   "execution_count": 63,
   "metadata": {},
   "outputs": [],
   "source": [
    "tiger = Animals(100,'Rwaaawr',4)\n",
    "doplin = Animals(80,'reeee',0)"
   ]
  },
  {
   "cell_type": "code",
   "execution_count": 64,
   "metadata": {},
   "outputs": [
    {
     "data": {
      "text/plain": [
       "100"
      ]
     },
     "execution_count": 64,
     "metadata": {},
     "output_type": "execute_result"
    }
   ],
   "source": [
    "tiger.size"
   ]
  },
  {
   "cell_type": "code",
   "execution_count": 65,
   "metadata": {},
   "outputs": [
    {
     "data": {
      "text/plain": [
       "0"
      ]
     },
     "execution_count": 65,
     "metadata": {},
     "output_type": "execute_result"
    }
   ],
   "source": [
    "doplin.legs\n"
   ]
  },
  {
   "cell_type": "code",
   "execution_count": 67,
   "metadata": {},
   "outputs": [],
   "source": [
    "#Objects -using Attributes in a Method\n",
    "class Animal:\n",
    "    def __init__(self,name,color,noise):\n",
    "        self.name = name\n",
    "        self.color = color\n",
    "        self.noise = noise\n",
    "    \n",
    "    def describe(self):\n",
    "        print(\"The {} is {} and it makes the noise:{}\".format(self.name,self.color,self.noise))"
   ]
  },
  {
   "cell_type": "code",
   "execution_count": 68,
   "metadata": {},
   "outputs": [],
   "source": [
    "owl = Animal('owl','brown','twit tawoo')\n",
    "dog = Animal('dog','black','barkkk')"
   ]
  },
  {
   "cell_type": "code",
   "execution_count": 69,
   "metadata": {},
   "outputs": [
    {
     "name": "stdout",
     "output_type": "stream",
     "text": [
      "The owl is brown and it makes the noise:twit tawoo\n"
     ]
    }
   ],
   "source": [
    "owl.describe()"
   ]
  },
  {
   "cell_type": "code",
   "execution_count": 71,
   "metadata": {},
   "outputs": [],
   "source": [
    "#changing variables in a class objects\n",
    "\n",
    "class Warrior:\n",
    "    def __init__(self,name,strength,health):\n",
    "        self.name = name\n",
    "        self.strength = strength\n",
    "        self.health = health\n",
    "        \n",
    "    def report(self):\n",
    "        print(\"HI {},your strength is {},your health is {}\".format(self.name,self.strength,self.health))\n",
    "    \n",
    "    def heal(self,plus_health):\n",
    "        self.health += plus_health\n",
    "    \n",
    "    def damage(self):\n",
    "        self.health -= 1\n",
    "    \n",
    "    def workout(self):\n",
    "        self.strength += 1"
   ]
  },
  {
   "cell_type": "code",
   "execution_count": 72,
   "metadata": {},
   "outputs": [],
   "source": [
    "warrior1 = Warrior(\"Hero\",10,100)"
   ]
  },
  {
   "cell_type": "code",
   "execution_count": 75,
   "metadata": {},
   "outputs": [
    {
     "name": "stdout",
     "output_type": "stream",
     "text": [
      "HI Hero,your strength is 10,your health is 99\n"
     ]
    }
   ],
   "source": [
    "warrior1.report()"
   ]
  },
  {
   "cell_type": "code",
   "execution_count": 74,
   "metadata": {},
   "outputs": [],
   "source": [
    "warrior1.damage()"
   ]
  },
  {
   "cell_type": "code",
   "execution_count": 76,
   "metadata": {},
   "outputs": [],
   "source": [
    "#Practical\n",
    "\n",
    "class Bank:\n",
    "    def __init__(self,name,acc_type,balance):\n",
    "        self.name = name\n",
    "        self.acc_type = acc_type\n",
    "        self.balance = balance\n",
    "        \n",
    "    def report(self):\n",
    "        print(\"Your Account name is : {},\\nYour Account type is {},\\nYour balance is {}\".format(self.name,self.acc_type,self.balance))\n",
    "    \n",
    "    def withdraw_money(self,withdraw):\n",
    "        self.balance -= withdraw\n",
    "    \n",
    "    def deposit_money(self,deposit):\n",
    "        self.balance -= deposit\n",
    "        \n",
    "    def check_balance(self):\n",
    "        print(\"Your balance is:{}\".format(self.balance))\n"
   ]
  },
  {
   "cell_type": "code",
   "execution_count": 77,
   "metadata": {},
   "outputs": [],
   "source": [
    "Anish = Bank('Anish','Savings',100)\n",
    "A2 = Bank('a2','Current',20)"
   ]
  },
  {
   "cell_type": "code",
   "execution_count": 78,
   "metadata": {},
   "outputs": [
    {
     "name": "stdout",
     "output_type": "stream",
     "text": [
      "Your Account name is : Anish,\n",
      "Your Account type is Savings,\n",
      "Your balance is 100\n"
     ]
    }
   ],
   "source": [
    "Anish.report()"
   ]
  },
  {
   "cell_type": "code",
   "execution_count": 79,
   "metadata": {},
   "outputs": [],
   "source": [
    "Anish.withdraw_money(30)"
   ]
  },
  {
   "cell_type": "code",
   "execution_count": 80,
   "metadata": {},
   "outputs": [],
   "source": [
    "A2.deposit_money(25)"
   ]
  },
  {
   "cell_type": "code",
   "execution_count": 81,
   "metadata": {},
   "outputs": [
    {
     "name": "stdout",
     "output_type": "stream",
     "text": [
      "Your Account name is : a2,\n",
      "Your Account type is Current,\n",
      "Your balance is -5\n"
     ]
    }
   ],
   "source": [
    "A2.report()"
   ]
  },
  {
   "cell_type": "code",
   "execution_count": 82,
   "metadata": {},
   "outputs": [
    {
     "name": "stdout",
     "output_type": "stream",
     "text": [
      "Your balance is:-5\n"
     ]
    }
   ],
   "source": [
    "A2.check_balance()"
   ]
  },
  {
   "cell_type": "code",
   "execution_count": 20,
   "metadata": {},
   "outputs": [],
   "source": [
    "#practical\n",
    "Wizard = {'health':100,'strength':75,'defense':40,'magic':80,'gold':70}\n",
    "Elf = {'health':100,'strength':40,'defense':40,'magic':100,'gold':70}\n",
    "Gobin = {'health':100,'strength':50,'defense':50,'magic':50,'gold':100}\n",
    "\n",
    "\n",
    "\n",
    "class Game:\n",
    "    def __init__(self,health,strength,defense,magic,gold):\n",
    "        \n",
    "        self.health = health\n",
    "        self.strength = strength\n",
    "        self.defense = defense\n",
    "        self.magic = magic\n",
    "        self.gold = gold\n",
    "        \n",
    "    def report(self):\n",
    "        print(\"Your character name is : '{}' \\nHealth   : {}\\nStrength : {}\\nDefense  : {}\\nMagic    : {}\\nGold     : {}\".format(self.name,self.health,self.strength,self.defense,self.magic,self.gold))\n",
    "    \n",
    "    def report_health(self):\n",
    "        print(\"Your current health is :{}\".format(self.health))    \n",
    "    \n",
    "    def add_health(self,get_health):\n",
    "        self.health += get_health\n",
    "    \n",
    "    def remove_health(self,take_health):\n",
    "        self.balance -= take_health\n",
    "        \n",
    "    def add_gold(self,get_gold):\n",
    "        self.health += get_health\n",
    "        \n",
    "    def remove_gold(self,get_gold):\n",
    "        self.health += get_health\n",
    "        \n",
    "    \n",
    "\n",
    "\n"
   ]
  },
  {
   "cell_type": "code",
   "execution_count": null,
   "metadata": {},
   "outputs": [],
   "source": []
  },
  {
   "cell_type": "code",
   "execution_count": 21,
   "metadata": {},
   "outputs": [
    {
     "name": "stdout",
     "output_type": "stream",
     "text": [
      "Choose your character from :\n",
      "1.Wizard\n",
      "2.Elf\n",
      "3.Gobin\n",
      "\n",
      "Enter the number corresonding to your character: 1\n",
      "You have choosen the character : Wizard\n",
      "\n",
      "\n"
     ]
    }
   ],
   "source": [
    "#def character():\n",
    "print(\"Choose your character from :\")\n",
    "print(\"1.Wizard\\n2.Elf\\n3.Gobin\\n\")\n",
    "user_input = int(input(\"Enter the number corresonding to your character: \"))\n",
    "if user_input == 1:\n",
    "    player_charater = Game(Wizard['health'],Wizard['strength'],Wizard['defense'],Wizard['magic'],Wizard['gold'])\n",
    "    print(\"You have choosen the character : Wizard\")\n",
    "    print(\"\\n\")\n",
    "        #Wizard.report()\n",
    "elif user_input == 2:\n",
    "    player_charater = Game(Elf['health'],Elf['strength'],Elf['defense'],Elf['magic'],Elf['gold'])\n",
    "    print(\"You have choosen the character : Elf\")\n",
    "    print(\"\\n\")\n",
    "        #Elf.report()\n",
    "elif user_input == 3:\n",
    "    player_charater = Game(Gobin['health'],Gobin['strength'],Gobin['defense'],Gobin['magic'],Gobin['gold'])\n",
    "    print(\"You have choosen the character : Gobin\")\n",
    "    print(\"\\n\") \n",
    "        #Gobin.report()\n",
    "else:\n",
    "    print(\"Invalid input\")\n",
    "    print(\"Choose again\")\n",
    "        \n",
    "            #Add go to here"
   ]
  },
  {
   "cell_type": "code",
   "execution_count": null,
   "metadata": {},
   "outputs": [],
   "source": []
  },
  {
   "cell_type": "code",
   "execution_count": 33,
   "metadata": {},
   "outputs": [
    {
     "data": {
      "text/plain": [
       "\"\\nimport random as r\\ndef frd_emy():\\n    f_or_e = r.randint(1,2)\\n    if f_or_e == '1':\\n        opp = 'f'\\n    elif f_or_e=='2':\\n        opp = 'e'\\n   \""
      ]
     },
     "execution_count": 33,
     "metadata": {},
     "output_type": "execute_result"
    }
   ],
   "source": [
    "'''\n",
    "import random as r\n",
    "def frd_emy():\n",
    "    f_or_e = r.randint(1,2)\n",
    "    if f_or_e == '1':\n",
    "        opp = 'f'\n",
    "    elif f_or_e=='2':\n",
    "        opp = 'e'\n",
    "   '''\n",
    " "
   ]
  },
  {
   "cell_type": "code",
   "execution_count": 32,
   "metadata": {},
   "outputs": [
    {
     "data": {
      "text/plain": [
       "'\\ni =frd_emy()\\nprint(i)\\n'"
      ]
     },
     "execution_count": 32,
     "metadata": {},
     "output_type": "execute_result"
    }
   ],
   "source": [
    "'''\n",
    "i =frd_emy()\n",
    "print(i)\n",
    "'''"
   ]
  },
  {
   "cell_type": "markdown",
   "metadata": {},
   "source": [
    "wizard = {'health':100,'strength':75,'defense':40,'magic':80,'gold':70}\n",
    "elf = {'health':100,'strength':40,'defense':40,'magic':100,'gold':70}\n",
    "gobin = {'health':100,'strength':50,'defense':50,'magic':50,'gold':100}\n",
    "\n",
    "\n",
    "\n",
    "class Character:\n",
    "    def __init__(self,name,health,strength,defense,magic,gold):\n",
    "        self.name = name\n",
    "        self.health = health\n",
    "        self.strength = strength\n",
    "        self.defense = defense\n",
    "        self.magic = magic\n",
    "        self.gold = gold"
   ]
  },
  {
   "cell_type": "code",
   "execution_count": 1,
   "metadata": {},
   "outputs": [],
   "source": [
    "#practical\n",
    "import time\n",
    "avaiable_points = 5\n",
    "\n",
    "Wizard = {'health':100,'strength':75,'defense':40,'magic':80,'gold':70}\n",
    "Elf = {'health':100,'strength':40,'defense':40,'magic':100,'gold':70}\n",
    "Gobin = {'health':100,'strength':50,'defense':50,'magic':50,'gold':100}\n",
    "\n",
    "\n",
    "\n",
    "class Game:\n",
    "    def __init__(self,health,strength,defense,magic,gold):\n",
    "        \n",
    "        self.health = health\n",
    "        self.strength = strength\n",
    "        self.defense = defense\n",
    "        self.magic = magic\n",
    "        self.gold = gold\n",
    "        \n",
    "    def stats(self):\n",
    "        print(\"Character health : {}\\t Character Strength : {}\\t Character Defense : {}\".format(self.health,self.strength,self.defense))\n",
    "\n",
    "    \n",
    "    \n",
    "\n",
    "class Enemy:\n",
    "    def __init__(self,health,strength,defense):\n",
    "        \n",
    "        self.health = health\n",
    "        self.strength = strength\n",
    "        self.defense = defense\n",
    "    \n",
    "skeleton = Enemy(40,30,30)\n",
    "cat = Enemy(70,45,65)\n"
   ]
  },
  {
   "cell_type": "code",
   "execution_count": 2,
   "metadata": {},
   "outputs": [
    {
     "name": "stdout",
     "output_type": "stream",
     "text": [
      "Choose your character from :\n",
      "1.Wizard\n",
      "2.Elf\n",
      "3.Gobin\n",
      "\n",
      "Enter the number corresonding to your character: 1\n",
      "You have choosen the character : Wizard\n",
      "\n",
      "\n",
      "Character health : 100\t Character Strength : 75\t Character Defense : 40\n"
     ]
    }
   ],
   "source": [
    "def attack(attacker_str,defender_def):\n",
    "    damage = attacker_str - defender_def\n",
    "    return damage\n",
    "\n",
    "\n",
    "\n",
    "#def character():\n",
    "print(\"Choose your character from :\")\n",
    "print(\"1.Wizard\\n2.Elf\\n3.Gobin\\n\")\n",
    "user_input = int(input(\"Enter the number corresonding to your character: \"))\n",
    "if user_input == 1:\n",
    "    player_charater = Game(Wizard['health'],Wizard['strength'],Wizard['defense'],Wizard['magic'],Wizard['gold'])\n",
    "    print(\"You have choosen the character : Wizard\")\n",
    "    print(\"\\n\")\n",
    "    player_charater.stats()\n",
    "    \n",
    "        #Wizard.report()\n",
    "elif user_input == 2:\n",
    "    player_charater = Game(Elf['health'],Elf['strength'],Elf['defense'],Elf['magic'],Elf['gold'])\n",
    "    print(\"You have choosen the character : Elf\")\n",
    "    print(\"\\n\")\n",
    "        #Elf.report()\n",
    "    player_charater.stats()\n",
    "    \n",
    "elif user_input == 3:\n",
    "    player_charater = Game(Gobin['health'],Gobin['strength'],Gobin['defense'],Gobin['magic'],Gobin['gold'])\n",
    "    print(\"You have choosen the character : Gobin\")\n",
    "    print(\"\\n\")\n",
    "    player_charater.stats()\n",
    "    \n",
    "else:\n",
    "    print(\"Invalid input\")\n",
    "    print(\"Choose again\")\n",
    "\n",
    "    \n",
    "\n",
    "    \n",
    "\n",
    "    \n",
    "    \n",
    "            \n"
   ]
  },
  {
   "cell_type": "code",
   "execution_count": 4,
   "metadata": {},
   "outputs": [
    {
     "name": "stdout",
     "output_type": "stream",
     "text": [
      "Which stat You wanna increase of your character by 10 points?\n",
      "Character health : 100\t Character Strength : 75\t Character Defense : 40\n",
      "1.Heath\n",
      "2.Strength\n",
      "3.Defense\n",
      "1\n",
      "Which stat You wanna increase of your character by 10 points?\n",
      "Character health : 110\t Character Strength : 75\t Character Defense : 40\n",
      "1.Heath\n",
      "2.Strength\n",
      "3.Defense\n",
      "2\n",
      "Which stat You wanna increase of your character by 10 points?\n",
      "Character health : 120\t Character Strength : 75\t Character Defense : 40\n",
      "1.Heath\n",
      "2.Strength\n",
      "3.Defense\n",
      "4\n"
     ]
    }
   ],
   "source": [
    "avaiable_points = 5\n",
    "\n",
    "while avaiable_points>0:\n",
    "        print(\"Which stat You wanna increase of your character by 10 points?\")\n",
    "        player_charater.stats()\n",
    "        increase = int(input(\"1.Heath\\n2.Strength\\n3.Defense\\n\"))\n",
    "        if increase == 1:\n",
    "            player_charater.health += 10\n",
    "        elif increase == 2:\n",
    "            player_charater.health += 10\n",
    "        elif increase == 3:\n",
    "            player_charater.health += 10\n",
    "        else:\n",
    "            break\n",
    "        avaiable_points -=1"
   ]
  },
  {
   "cell_type": "code",
   "execution_count": 8,
   "metadata": {},
   "outputs": [
    {
     "name": "stdout",
     "output_type": "stream",
     "text": [
      "Your name is : a\n",
      "Character health : 120\t Character Strength : 75\t Character Defense : 40\n",
      "\n",
      "\n",
      "a ,You see 4 paths ahead ,path 1 leads you to a skeleton,path 2 leads to some rich dude,path 3 leads to a cat,path 4 is going back\n",
      "Which one do you want to walk (1,2,3,4): 4\n"
     ]
    }
   ],
   "source": [
    "play = True\n",
    "        \n",
    "user_name = input(\"Your name is : \")\n",
    "while play == True:\n",
    "        player_charater.stats()\n",
    "        print(\"\\n\")\n",
    "        print(\"{} ,You see 4 paths ahead ,path 1 leads you to a skeleton,path 2 leads to some rich dude,path 3 leads to a cat,path 4 is going back\".format(user_name))\n",
    "        path_choice = input('Which one do you want to walk (1,2,3,4): ')\n",
    "        if path_choice =='1':\n",
    "            fight_option = input(\"You see...A skeleton.Fight(y/n)\")\n",
    "            if fight_option == 'y':\n",
    "                while 1==1:\n",
    "                    #user goes first\n",
    "      \n",
    "                    damage = attack(player_charater.strength,skeleton.defense)\n",
    "                    skeleton.health -= damage\n",
    "                    print(\"Skeleton health is {}\".format(skeleton.health))\n",
    "                    if skeleton.health <=0:\n",
    "                        print(\"Skeleton dies\")\n",
    "                        break\n",
    "                    time.sleep(2)\n",
    "                    print(\"Now skeleton attacks....\")\n",
    "                    time.sleep(1)\n",
    "                    #skeleon goes second\n",
    "                    damage = attack(skeleton.strength,player_charater.defense)\n",
    "                    player_charater.health -= damage\n",
    "                    print(\"Player  health is {}\".format(player_charater.health))\n",
    "                    \n",
    "                    if player_charater.health <=0:\n",
    "                        print(\"You die\")\n",
    "                        play = False\n",
    "                        break\n",
    "                    time.sleep(2)\n",
    "                    print(\"Now you attack....\")\n",
    "                    time.sleep(1)\n",
    "\n",
    "\n",
    "        elif path_choice == '2':\n",
    "            money_info = input(\"You see.....A rich man...He will give you money if u help  him..yes or no(y/n)\")\n",
    "            if money_info == 'y':\n",
    "                print(\"He says .....nice of you\")\n",
    "                player_charater.gold +=100\n",
    "            else:\n",
    "                print(\"He says ..how rude of you\")\n",
    "                player_charater.health -= 10\n",
    "                \n",
    "                \n",
    "        elif path_choice == '3':\n",
    "            fight_option = input(\"You see...A Cat.Fight(y/n)\")\n",
    "            if fight_option == 'y':\n",
    "                while 1==1:\n",
    "                    #user goes first\n",
    "                    damage = attack(player_charater.strength,cat.defense)\n",
    "                    cat.health -= damage\n",
    "                    print(\"Cat health is {}\".format(cat.health))\n",
    "                    if cat.health <=0:\n",
    "                        print(\"Cat dies\")\n",
    "                        break\n",
    "                    time.sleep(2)\n",
    "                    print(\"Now Cat attacks....\")\n",
    "                    time.sleep(1)\n",
    "                    #cat goes second\n",
    "                    damage = attack(cat.strength,player_charater.defense)\n",
    "                    player_charater.health -= damage\n",
    "                    print(\"Player  health is {}\".format(player_charater.health))\n",
    "                    if player_charater.health <=0:\n",
    "                        print(\"You die\")\n",
    "                        play = False\n",
    "                        break\n",
    "                        time.sleep(2)\n",
    "                    print(\"Now skeleton attacks....\")\n",
    "                    time.sleep(1)\n",
    "        else:\n",
    "            play = False"
   ]
  },
  {
   "cell_type": "code",
   "execution_count": 9,
   "metadata": {},
   "outputs": [],
   "source": [
    "# Functional Programming\n",
    "# 3 types\n",
    "\n",
    "#1st one is Lambda\n",
    "#instead of : \n",
    "#def function(num):\n",
    "#    num2 = num + 1\n",
    "#we can use\n",
    "\n",
    "lam_func = lambda x: x+3"
   ]
  },
  {
   "cell_type": "code",
   "execution_count": 10,
   "metadata": {},
   "outputs": [
    {
     "data": {
      "text/plain": [
       "13"
      ]
     },
     "execution_count": 10,
     "metadata": {},
     "output_type": "execute_result"
    }
   ],
   "source": [
    "lam_func(10)"
   ]
  },
  {
   "cell_type": "code",
   "execution_count": 11,
   "metadata": {},
   "outputs": [],
   "source": [
    "my_lambda = lambda name:\"Hello {}\".format(name)"
   ]
  },
  {
   "cell_type": "code",
   "execution_count": 12,
   "metadata": {},
   "outputs": [
    {
     "data": {
      "text/plain": [
       "'Hello Anish'"
      ]
     },
     "execution_count": 12,
     "metadata": {},
     "output_type": "execute_result"
    }
   ],
   "source": [
    "my_lambda('Anish')"
   ]
  },
  {
   "cell_type": "code",
   "execution_count": 25,
   "metadata": {},
   "outputs": [
    {
     "data": {
      "text/plain": [
       "[0.2, 2.0, 200.0, 400.0]"
      ]
     },
     "execution_count": 25,
     "metadata": {},
     "output_type": "execute_result"
    }
   ],
   "source": [
    "#2nd one is Map\n",
    "#map using normal functions\n",
    "\n",
    "list_of_nums = [1,10,1000,2000]\n",
    "\n",
    "def divider(x):\n",
    "    y = x/5\n",
    "    return y\n",
    "\n",
    "list_of_large = list(map(divider,list_of_nums))\n",
    "\n",
    "list_of_large"
   ]
  },
  {
   "cell_type": "code",
   "execution_count": 19,
   "metadata": {},
   "outputs": [
    {
     "data": {
      "text/plain": [
       "[10, 11, 12, 13, 14]"
      ]
     },
     "execution_count": 19,
     "metadata": {},
     "output_type": "execute_result"
    }
   ],
   "source": [
    "#Map using Lambda on a list\n",
    "\n",
    "old_nums = [1,2,3,4,5]\n",
    "new_nums = list(map(lambda x : x+9,old_nums))\n",
    "new_nums"
   ]
  },
  {
   "cell_type": "code",
   "execution_count": 21,
   "metadata": {},
   "outputs": [
    {
     "name": "stdout",
     "output_type": "stream",
     "text": [
      "(1.0, 2.0, 3.0, 4.0, 5.0)\n"
     ]
    }
   ],
   "source": [
    "#Map using Lambda on a tuples\n",
    "\n",
    "old_tuple = (2,4,6,8,10)\n",
    "new_tuple = tuple(map(lambda num : num/2,old_tuple))\n",
    "print(new_tuple)"
   ]
  },
  {
   "cell_type": "code",
   "execution_count": 23,
   "metadata": {},
   "outputs": [
    {
     "data": {
      "text/plain": [
       "[101, 202, 303, 404, 505]"
      ]
     },
     "execution_count": 23,
     "metadata": {},
     "output_type": "execute_result"
    }
   ],
   "source": [
    "#3rd type\n",
    "#map with lambda and multiple input\n",
    "\n",
    "list_one = [1,2,3,4,5]\n",
    "list_two = [100,200,300,400,500]\n",
    "\n",
    "list_three = list(map(lambda x,y:x+y,list_one,list_two))\n",
    "\n",
    "list_three"
   ]
  },
  {
   "cell_type": "code",
   "execution_count": 27,
   "metadata": {},
   "outputs": [
    {
     "data": {
      "text/plain": [
       "[14, 72, 2]"
      ]
     },
     "execution_count": 27,
     "metadata": {},
     "output_type": "execute_result"
    }
   ],
   "source": [
    "#Filter\n",
    "\n",
    "my_list = [1,14,53,72,2,99]\n",
    "filtered_list = list(filter(lambda x:x%2==0,my_list))\n",
    "filtered_list"
   ]
  },
  {
   "cell_type": "code",
   "execution_count": 28,
   "metadata": {},
   "outputs": [
    {
     "name": "stdout",
     "output_type": "stream",
     "text": [
      "['John', 'Phil', 'Joe']\n"
     ]
    }
   ],
   "source": [
    "names_list = ['John','Phil','Joe','Jochie','Anish']\n",
    "\n",
    "short_names = list(filter(lambda name : len(name)<=4,names_list))\n",
    "print(short_names)"
   ]
  },
  {
   "cell_type": "code",
   "execution_count": 4,
   "metadata": {},
   "outputs": [
    {
     "data": {
      "text/plain": [
       "20"
      ]
     },
     "execution_count": 4,
     "metadata": {},
     "output_type": "execute_result"
    }
   ],
   "source": [
    "(5*5)-5\n"
   ]
  },
  {
   "cell_type": "code",
   "execution_count": 3,
   "metadata": {},
   "outputs": [
    {
     "name": "stdout",
     "output_type": "stream",
     "text": [
      "12 - 3 + 4\n",
      "<class 'int'>\n",
      "<class 'str'>\n",
      "<class 'int'>\n",
      "<class 'str'>\n",
      "<class 'int'>\n",
      "[12, '-', 3, '+', 4]\n"
     ]
    }
   ],
   "source": [
    "x = map(str,input().split())\n",
    "a = []\n",
    "flag = True\n",
    "for i in x:\n",
    "    if(flag == True):\n",
    "        a.append(int(i))\n",
    "        flag = 1 - flag\n",
    "    else:\n",
    "        a.append(i)\n",
    "        flag = 1 - flag\n",
    "for i in a:\n",
    "    print(type(i))\n",
    "print(a)"
   ]
  },
  {
   "cell_type": "code",
   "execution_count": 17,
   "metadata": {},
   "outputs": [
    {
     "name": "stdout",
     "output_type": "stream",
     "text": [
      "1\n"
     ]
    }
   ],
   "source": [
    "flag = True \n",
    "flag = 1 - flag \n",
    "flag = False\n",
    "flag = 1 - flag \n",
    "print(flag)"
   ]
  },
  {
   "cell_type": "code",
   "execution_count": null,
   "metadata": {},
   "outputs": [],
   "source": []
  }
 ],
 "metadata": {
  "kernelspec": {
   "display_name": "Python 3",
   "language": "python",
   "name": "python3"
  },
  "language_info": {
   "codemirror_mode": {
    "name": "ipython",
    "version": 3
   },
   "file_extension": ".py",
   "mimetype": "text/x-python",
   "name": "python",
   "nbconvert_exporter": "python",
   "pygments_lexer": "ipython3",
   "version": "3.8.3"
  }
 },
 "nbformat": 4,
 "nbformat_minor": 4
}
