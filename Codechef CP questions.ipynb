{
 "cells": [
  {
   "cell_type": "code",
   "execution_count": 42,
   "metadata": {},
   "outputs": [
    {
     "name": "stdout",
     "output_type": "stream",
     "text": [
      "3\n",
      "5 2 3\n",
      "PASS\n",
      "5 2 4\n",
      "FAIL\n",
      "4 0 0 \n",
      "FAIL\n"
     ]
    }
   ],
   "source": [
    "T = int(input())\n",
    "input_list = []\n",
    "for i in range(T):\n",
    "    inputi = [int(ele) for ele in input().split()]\n",
    "    wrg = inputi[0]-inputi[1]\n",
    "    crt_ans = inputi[1]*3\n",
    "    passing_marks = inputi[2]\n",
    "    final = (crt_ans - wrg)\n",
    "    if passing_marks > final:\n",
    "        print('FAIL')\n",
    "    else:\n",
    "        print('PASS')\n",
    "    "
   ]
  },
  {
   "cell_type": "code",
   "execution_count": 39,
   "metadata": {},
   "outputs": [
    {
     "name": "stdout",
     "output_type": "stream",
     "text": [
      "4\n"
     ]
    }
   ],
   "source": [
    "a = [5, 2, 4]\n",
    "passing_marks = a[2]\n",
    "print(passing_marks)"
   ]
  },
  {
   "cell_type": "code",
   "execution_count": 6,
   "metadata": {},
   "outputs": [
    {
     "name": "stdout",
     "output_type": "stream",
     "text": [
      "3\n",
      "3 3\n",
      "yes\n",
      "4 2 \n",
      "NO\n",
      "2 4\n",
      "yes\n"
     ]
    }
   ],
   "source": [
    "#code = JENGA\n",
    "t = int(input())\n",
    "\n",
    "for i in range(t):\n",
    "    inputi = [int(ele) for ele in input().split()]\n",
    "    ppl = inputi[0]\n",
    "    pieces = inputi[1]\n",
    "    if (pieces%ppl==0):\n",
    "        print('yes')\n",
    "    else:\n",
    "        print('NO')\n",
    "        \n"
   ]
  },
  {
   "cell_type": "code",
   "execution_count": 19,
   "metadata": {},
   "outputs": [
    {
     "name": "stdout",
     "output_type": "stream",
     "text": [
      "2\n",
      "1 10\n",
      "3\n",
      "11 33 \n",
      "8\n"
     ]
    }
   ],
   "source": [
    "#code = num239\n",
    "t = int(input())\n",
    "\n",
    "for i in range(t):\n",
    "    count = 0\n",
    "    \"\"\"\n",
    "    inputi = [int(ele) for ele in input().split()]\n",
    "    x = inputi[0]\n",
    "    y = inputi[1]\n",
    "    \"\"\"\n",
    "    x,y = map(int,input().split())\n",
    "    for j in range(x,y+1):\n",
    "        if j%10 == 2 or j%10==3 or j%10==9:\n",
    "            count = count + 1\n",
    "       \t\t\n",
    "    print(count)"
   ]
  },
  {
   "cell_type": "code",
   "execution_count": 23,
   "metadata": {},
   "outputs": [
    {
     "name": "stdout",
     "output_type": "stream",
     "text": [
      "3\n",
      "123 234\n",
      "13\n",
      "10101 1010\n",
      "10\n",
      "4 4\n",
      "7\n"
     ]
    }
   ],
   "source": [
    "#code =  matches\n",
    "\n",
    "val = {0:6 , 1:2 , 2:5 , 3:5 , 4:4 , 5:5 , 6:6 , 7:3 , 8:7 , 9:6}\n",
    "\n",
    "t = int(input())\n",
    "for i in range(t):\n",
    "    total = 0\n",
    "    x,y = map(int,input().split())\n",
    "    z = x + y\n",
    "    #print(z)\n",
    "    w = [int(a) for a in str(z)]\n",
    "    #print(w)\n",
    "    for i in range(len(w)):\n",
    "        q = w[i]%10\n",
    "        add = val[q]\n",
    "        total = total + add\n",
    "    print(total)"
   ]
  },
  {
   "cell_type": "code",
   "execution_count": 4,
   "metadata": {},
   "outputs": [
    {
     "name": "stdout",
     "output_type": "stream",
     "text": [
      "[1, 2, 3]\n",
      "12\n",
      "1\n"
     ]
    }
   ],
   "source": [
    "val = {0:6 , 1:2 , 2:5 , 3:5 , 4:4 , 5:5 , 6:6 , 7:3 , 8:7 , 9:6}\n",
    "z = 123\n",
    "w = [int(a) for a in str(z)]\n",
    "print(w)\n",
    "total = 0\n",
    "for i in range(len(w)):\n",
    "    q = w[i]%10\n",
    "    add = val[q]\n",
    "    total = total + add\n",
    "print(total)\n",
    "print(w[0]%10)"
   ]
  },
  {
   "cell_type": "code",
   "execution_count": 29,
   "metadata": {},
   "outputs": [
    {
     "name": "stdout",
     "output_type": "stream",
     "text": [
      "3\n",
      "4 10\n",
      "2 13 4 16\n",
      "2\n",
      "5 8\n",
      "9 3 8 8 4\n",
      "1\n",
      "4 6\n",
      "1 2 3 4\n",
      "0\n"
     ]
    }
   ],
   "source": [
    "#code = DOLL\n",
    "t = int(input())\n",
    "for i in range(t):\n",
    "    total = 0\n",
    "    x,y = map(int,input().split())\n",
    "    z = [int(ele) for ele in input().split()]\n",
    "    for i in range(len(z)):\n",
    "        if z[i]>y:\n",
    "            total = total+1\n",
    "    print(total)"
   ]
  },
  {
   "cell_type": "code",
   "execution_count": 4,
   "metadata": {},
   "outputs": [
    {
     "name": "stdout",
     "output_type": "stream",
     "text": [
      "2\n",
      "5\n",
      "1\n",
      "6\n",
      "3\n"
     ]
    }
   ],
   "source": [
    "#code = TRISQ\n",
    "t = int(input())\n",
    "for i in range(t):\n",
    "    ans = 0\n",
    "    a = int(input())\n",
    "    x = (a//2)-1\n",
    "    ans = x*(x+1)//2\n",
    "    print(ans)"
   ]
  },
  {
   "cell_type": "code",
   "execution_count": 16,
   "metadata": {},
   "outputs": [
    {
     "name": "stdout",
     "output_type": "stream",
     "text": [
      "1\n",
      "5 1 1\n",
      "1 1 1 1 1\n",
      "1.0\n"
     ]
    }
   ],
   "source": [
    "#code = NAICHEF\n",
    "\n",
    "t = int(input())\n",
    "for i in range(t):\n",
    "    ans = 0\n",
    "    \n",
    "    nab = list(map(int,input().split()))\n",
    "    n = nab[0]\n",
    "    a = nab[1]\n",
    "    b = nab[2]\n",
    "    x = list(map(int,input().split()))\n",
    "    \n",
    "    y = 0\n",
    "    z = 0\n",
    "    for j in range(len(x)):\n",
    "        if x[j]==a:\n",
    "            y = y+1\n",
    "    for k in range(len(x)):\n",
    "        if x[k] == b:\n",
    "            z = z+1\n",
    "    pa = y/n\n",
    "    pb = z/n\n",
    "    #print(y,z)\n",
    "    ans = pa*pb\n",
    "    print(ans)"
   ]
  },
  {
   "cell_type": "code",
   "execution_count": 6,
   "metadata": {},
   "outputs": [
    {
     "name": "stdout",
     "output_type": "stream",
     "text": [
      "1\n",
      "2 3 1\n",
      "Yes\n"
     ]
    }
   ],
   "source": [
    "#code = CAN_REACH\n",
    "\n",
    "t = int(input())\n",
    "for i in range(t):\n",
    "    ins = list(map(int,input().split()))\n",
    "    x = ins[0]\n",
    "    y = ins[1]\n",
    "    k = ins[2]\n",
    "    if(x%k == 0 and y%k == 0):\n",
    "        print('Yes')\n",
    "    else:\n",
    "        print('No')\n",
    "#print(ins)"
   ]
  },
  {
   "cell_type": "code",
   "execution_count": 9,
   "metadata": {},
   "outputs": [
    {
     "name": "stdout",
     "output_type": "stream",
     "text": [
      "2\n",
      "10 0 2\n",
      "378\n",
      "11 2 1\n",
      "379\n"
     ]
    }
   ],
   "source": [
    "#code = BLITZ3_2\n",
    "\n",
    "t = int(input())\n",
    "for i in range(t):\n",
    "    dur = 0\n",
    "    ins = list(map(int,input().split()))\n",
    "    n = ins[0]\n",
    "    a = ins[1]\n",
    "    b = ins[2]\n",
    "    time_left = a+b\n",
    "    total_time = 2*(180+n)\n",
    "    dur = total_time - time_left\n",
    "    print(dur)\n",
    "    "
   ]
  },
  {
   "cell_type": "code",
   "execution_count": 17,
   "metadata": {},
   "outputs": [
    {
     "name": "stdout",
     "output_type": "stream",
     "text": [
      "1\n",
      "2 3 1 2\n",
      "s\n"
     ]
    }
   ],
   "source": [
    "#code = FRGAME\n",
    "\n",
    "t = int(input())\n",
    "for i in range(t):\n",
    "    a,b,c,d = map(int,input().split())\n",
    "    if(a<b):\n",
    "        a = a+c\n",
    "    else:\n",
    "        b = b+c\n",
    "    if(a<b):\n",
    "        a = a+d\n",
    "    else:\n",
    "        b = b+d\n",
    "    if(a>=b):\n",
    "        print('N')\n",
    "    else:\n",
    "        print('S')"
   ]
  },
  {
   "cell_type": "code",
   "execution_count": 2,
   "metadata": {},
   "outputs": [
    {
     "name": "stdout",
     "output_type": "stream",
     "text": [
      "1\n",
      "150 62 41\n",
      "527\n"
     ]
    }
   ],
   "source": [
    "#code = QUEENATTACK\n",
    "\n",
    "for _ in range(int(input())):\n",
    "  z,y,x = map(int,input().split())\n",
    "  print(2*(z-1) + min(y-1,x-1) + min(z-y,z-x) + min(z-y,x-1) + min(z-x,y-1))"
   ]
  },
  {
   "cell_type": "code",
   "execution_count": 23,
   "metadata": {},
   "outputs": [
    {
     "name": "stdout",
     "output_type": "stream",
     "text": [
      "1\n",
      "4 6 \n",
      "10 8 6 4\n",
      "0010\n"
     ]
    }
   ],
   "source": [
    "#code = ATM2\n",
    "\n",
    "for _ in range(int(input())):\n",
    "\n",
    "    n,k = map(int,input().split())\n",
    "    ins = list(map(int,input().split()))\n",
    "\n",
    "    for i in range(len(ins)):\n",
    "        if(ins[i]>k):\n",
    "            print(0,end='')\n",
    "        else:\n",
    "            k = k-ins[i]\n",
    "            print(1,end='')\n",
    "    print()\n",
    "               "
   ]
  },
  {
   "cell_type": "code",
   "execution_count": 16,
   "metadata": {},
   "outputs": [
    {
     "name": "stdout",
     "output_type": "stream",
     "text": [
      "2\n",
      "2\n",
      "2\n",
      "5\n",
      "3\n"
     ]
    }
   ],
   "source": [
    "#code = COOK29\n",
    "\n",
    "for _ in range(int(input())):\n",
    "    inputi = [int(ele) for ele in input().split()]\n",
    "    print((inputi[0]//2)+1)"
   ]
  },
  {
   "cell_type": "code",
   "execution_count": 22,
   "metadata": {},
   "outputs": [
    {
     "name": "stdout",
     "output_type": "stream",
     "text": [
      "1\n",
      "80 19 2\n",
      "80\n"
     ]
    }
   ],
   "source": [
    "for _ in range(int(input())):\n",
    "    A,B,C = list(map(int,input().split()))\n",
    "    maj = max(A,B,C)\n",
    "    if(maj>50):\n",
    "        print(maj)\n",
    "    else:\n",
    "        print(\"NOTA\")"
   ]
  },
  {
   "cell_type": "code",
   "execution_count": 17,
   "metadata": {},
   "outputs": [
    {
     "name": "stdout",
     "output_type": "stream",
     "text": [
      "3\n",
      "5\n",
      "1 1 1 1 1\n",
      "0\n",
      "4\n",
      "9 8 1 8\n",
      "2\n",
      "2\n",
      "1 9\n",
      "1\n"
     ]
    }
   ],
   "source": [
    "#code = CHNGIT\n",
    "\n",
    "for _ in range(int(input())):\n",
    "    t = int(input())\n",
    "    names = list(map(int,input().split()))\n",
    "    n = len(names)\n",
    "    nameset=set(names)\n",
    "    d={name:names.count(name) for name in nameset}\n",
    "    maxi = max(d, key=d.get)\n",
    "    #print(d,maxi)\n",
    "    new_val = d.values()\n",
    "    maximum_val = max(new_val)\n",
    "    print(n - maximum_val)"
   ]
  },
  {
   "cell_type": "code",
   "execution_count": 22,
   "metadata": {},
   "outputs": [
    {
     "name": "stdout",
     "output_type": "stream",
     "text": [
      "1\n",
      "4\n",
      "1 2 2 1\n",
      "2\n"
     ]
    }
   ],
   "source": [
    "#code = CFRTEST\n",
    "\n",
    "\n",
    "for _ in range(int(input())):\n",
    "    frds = []\n",
    "    count = 0\n",
    "    t = int(input())\n",
    "    inpu = list(map(int,input().split()))\n",
    "    for i in inpu:\n",
    "        if i not in frds:\n",
    "            frds.append(i)\n",
    "            count = count+1\n",
    "    print(count)"
   ]
  },
  {
   "cell_type": "code",
   "execution_count": 6,
   "metadata": {},
   "outputs": [
    {
     "name": "stdout",
     "output_type": "stream",
     "text": [
      "8\n",
      "2\n",
      "/\n",
      "4.0\n"
     ]
    }
   ],
   "source": [
    "#code = URCALC\n",
    "\n",
    "\n",
    "x = int(input())\n",
    "y = int(input())\n",
    "z = input()\n",
    "if(z == '+'):\n",
    "    print(x+y)\n",
    "elif(z == '-'):\n",
    "    print(x-y)\n",
    "elif(z == '*'):\n",
    "    print(x*y)\n",
    "elif(z == '/'):\n",
    "    print(x/y)"
   ]
  },
  {
   "cell_type": "code",
   "execution_count": 11,
   "metadata": {},
   "outputs": [
    {
     "name": "stdout",
     "output_type": "stream",
     "text": [
      "3\n",
      "5 3\n",
      "2\n",
      "6 7\n",
      "1\n",
      "10 2\n",
      "4\n"
     ]
    }
   ],
   "source": [
    "#code = FODCHAIN\n",
    "\n",
    "for _ in range(int(input())):\n",
    "    a,b = map(int,input().split())\n",
    "    count = 0\n",
    "    while(a>0):\n",
    "        c = a//b\n",
    "        a = c\n",
    "        count = count+1\n",
    "    print(count)"
   ]
  },
  {
   "cell_type": "code",
   "execution_count": 14,
   "metadata": {},
   "outputs": [
    {
     "name": "stdout",
     "output_type": "stream",
     "text": [
      "1\n",
      "4\n",
      "1 3 4 2\n",
      "1\n",
      "1\n"
     ]
    }
   ],
   "source": [
    "#code = JOHNY\n",
    "\n",
    "for _ in range(int(input())):\n",
    "    n = int(input())\n",
    "    inpu = list(map(int,input().split()))\n",
    "    j = int(input())\n",
    "    fav = inpu[j-1]\n",
    "    inpu.sort()\n",
    "    print(inpu.index(fav)+1)\n"
   ]
  },
  {
   "cell_type": "code",
   "execution_count": 15,
   "metadata": {},
   "outputs": [
    {
     "name": "stdout",
     "output_type": "stream",
     "text": [
      "2\n",
      "3\n",
      "1 3 3\n",
      "0\n",
      "3\n",
      "1 4 2\n",
      "1\n"
     ]
    }
   ],
   "source": [
    "#code = EID\n",
    "\n",
    "for _ in range(int(input())):\n",
    "    n = int(input())\n",
    "    inpu = list(map(int,input().split()))\n",
    "    inpu.sort()\n",
    "    mini = 1000000\n",
    "    for i in range(1,len(inpu)):\n",
    "        val = abs(inpu[i]-inpu[i-1])\n",
    "        mini = min(val, mini)\n",
    "    print(mini)"
   ]
  },
  {
   "cell_type": "code",
   "execution_count": 2,
   "metadata": {},
   "outputs": [
    {
     "name": "stdout",
     "output_type": "stream",
     "text": [
      "1\n",
      "5\n",
      "2\n"
     ]
    }
   ],
   "source": [
    "#code = TRICOIN\n",
    "\n",
    "for _ in range(int(input())):\n",
    "    n = int(input())\n",
    "    temp =1\n",
    "    count =0\n",
    "    while(n>=temp):\n",
    "        n -= temp\n",
    "        temp = temp+1\n",
    "        count +=1\n",
    "    print(count)\n",
    "        "
   ]
  },
  {
   "cell_type": "code",
   "execution_count": 2,
   "metadata": {},
   "outputs": [
    {
     "name": "stdout",
     "output_type": "stream",
     "text": [
      "1\n",
      "4\n",
      "2 2 3 1\n",
      "[None, 3, 4, 2]\n"
     ]
    }
   ],
   "source": [
    "#code = DOMINANT2\n",
    "\n",
    "for _ in range(int(input())):\n",
    "    t = int(input())\n",
    "    \n",
    "    a = list(map(int,input().split()))\n",
    "    b = [None]*len(a)\n",
    "    for i in range(len(a)):\n",
    "        x = a[i]%len(a)\n",
    "        b[x] = a[x] + 1\n",
    "#     for i in range(len(b)):\n",
    "#         b[x] = b[x] - a[x]\n",
    "    print(b)\n",
    "    "
   ]
  },
  {
   "cell_type": "code",
   "execution_count": 8,
   "metadata": {},
   "outputs": [
    {
     "data": {
      "text/plain": [
       "4"
      ]
     },
     "execution_count": 8,
     "metadata": {},
     "output_type": "execute_result"
    }
   ],
   "source": []
  },
  {
   "cell_type": "code",
   "execution_count": null,
   "metadata": {},
   "outputs": [],
   "source": []
  }
 ],
 "metadata": {
  "kernelspec": {
   "display_name": "Python 3",
   "language": "python",
   "name": "python3"
  },
  "language_info": {
   "codemirror_mode": {
    "name": "ipython",
    "version": 3
   },
   "file_extension": ".py",
   "mimetype": "text/x-python",
   "name": "python",
   "nbconvert_exporter": "python",
   "pygments_lexer": "ipython3",
   "version": "3.8.3"
  }
 },
 "nbformat": 4,
 "nbformat_minor": 4
}
