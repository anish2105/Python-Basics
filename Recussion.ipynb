{
 "cells": [
  {
   "cell_type": "code",
   "execution_count": 1,
   "metadata": {},
   "outputs": [],
   "source": [
    "def fact(n):\n",
    "    if n == 0:\n",
    "        return 1 \n",
    "    return n*fact(n-1)\n",
    "    "
   ]
  },
  {
   "cell_type": "code",
   "execution_count": 3,
   "metadata": {},
   "outputs": [
    {
     "name": "stdout",
     "output_type": "stream",
     "text": [
      "N : 5\n"
     ]
    },
    {
     "data": {
      "text/plain": [
       "120"
      ]
     },
     "execution_count": 3,
     "metadata": {},
     "output_type": "execute_result"
    }
   ],
   "source": [
    "n = int(input(\"N : \"))\n",
    "fact(n)"
   ]
  },
  {
   "cell_type": "code",
   "execution_count": 15,
   "metadata": {},
   "outputs": [],
   "source": [
    "#ex 2\n",
    "n = 5 #size of array\n",
    "ar = [1,4,-1,3,5]\n",
    "ke = 6\n",
    "start = 0\n",
    "def inde(arr,key,start):\n",
    "    if start == n:\n",
    "        return -1\n",
    "    elif arr[start] == key:\n",
    "        return start+1\n",
    "    return inde(arr,key,start+1)"
   ]
  },
  {
   "cell_type": "code",
   "execution_count": 16,
   "metadata": {},
   "outputs": [
    {
     "data": {
      "text/plain": [
       "-1"
      ]
     },
     "execution_count": 16,
     "metadata": {},
     "output_type": "execute_result"
    }
   ],
   "source": [
    "inde(ar,ke,start)"
   ]
  },
  {
   "cell_type": "code",
   "execution_count": 58,
   "metadata": {},
   "outputs": [],
   "source": [
    "#3 \n",
    "\n",
    "def sum_n(n):\n",
    "    if n == 0:\n",
    "        return 0\n",
    "    return n + sum_n(n-1)"
   ]
  },
  {
   "cell_type": "code",
   "execution_count": 59,
   "metadata": {},
   "outputs": [
    {
     "name": "stdout",
     "output_type": "stream",
     "text": [
      "N : 5\n"
     ]
    },
    {
     "data": {
      "text/plain": [
       "15"
      ]
     },
     "execution_count": 59,
     "metadata": {},
     "output_type": "execute_result"
    }
   ],
   "source": [
    "n = int(input(\"N : \"))\n",
    "sum_n(n)"
   ]
  },
  {
   "cell_type": "code",
   "execution_count": 45,
   "metadata": {},
   "outputs": [],
   "source": [
    "#4 \n",
    "\n",
    "def powers(x,n):\n",
    "    if n==0:\n",
    "        return 1\n",
    "    return x * powers(x,n-1)"
   ]
  },
  {
   "cell_type": "code",
   "execution_count": 49,
   "metadata": {},
   "outputs": [
    {
     "name": "stdout",
     "output_type": "stream",
     "text": [
      "Enter x :2\n",
      "Enter n :10\n"
     ]
    },
    {
     "data": {
      "text/plain": [
       "1024"
      ]
     },
     "execution_count": 49,
     "metadata": {},
     "output_type": "execute_result"
    }
   ],
   "source": [
    "x = int(input('Enter x :'))\n",
    "n = int(input('Enter n :'))\n",
    "powers(x,n)"
   ]
  },
  {
   "cell_type": "code",
   "execution_count": 64,
   "metadata": {},
   "outputs": [],
   "source": [
    "#5\n",
    "\n",
    "def print_n(n):\n",
    "    if n == 0:\n",
    "        return\n",
    "    #print(n)   #from n to 1\n",
    "    print_n(n-1)\n",
    "    print(n)   #from 1 to n\n",
    "    "
   ]
  },
  {
   "cell_type": "code",
   "execution_count": 65,
   "metadata": {},
   "outputs": [
    {
     "name": "stdout",
     "output_type": "stream",
     "text": [
      "1\n",
      "2\n",
      "3\n"
     ]
    }
   ],
   "source": [
    "print_n(3)"
   ]
  },
  {
   "cell_type": "code",
   "execution_count": 69,
   "metadata": {},
   "outputs": [
    {
     "name": "stdout",
     "output_type": "stream",
     "text": [
      "5\n",
      "3\n",
      "1\n"
     ]
    }
   ],
   "source": [
    "#6 \n",
    "def odd(n):\n",
    "    if n<0:\n",
    "        return \n",
    "    print(n)\n",
    "    odd(n-2)\n",
    "    \n",
    "n =5\n",
    "odd(n)"
   ]
  },
  {
   "cell_type": "code",
   "execution_count": 73,
   "metadata": {},
   "outputs": [
    {
     "data": {
      "text/plain": [
       "5"
      ]
     },
     "execution_count": 73,
     "metadata": {},
     "output_type": "execute_result"
    }
   ],
   "source": [
    "#7 fib series\n",
    "def fib(x):\n",
    "    if x == 1:\n",
    "        return 1\n",
    "    elif x == 2:\n",
    "        return 1\n",
    "    return fib(x-1)+fib(x-2)\n",
    "fib(5)"
   ]
  },
  {
   "cell_type": "code",
   "execution_count": 22,
   "metadata": {},
   "outputs": [
    {
     "name": "stdout",
     "output_type": "stream",
     "text": [
      "8\n"
     ]
    }
   ],
   "source": [
    "#8 work on this sum of list recurrsion\n",
    "def ad(x):\n",
    "    if len(x) == 1:\n",
    "        return x[0]\n",
    "    else:\n",
    "        return x[0] + ad(x[1:])\n",
    "print(ad([1,3,4]))"
   ]
  },
  {
   "cell_type": "code",
   "execution_count": 26,
   "metadata": {},
   "outputs": [],
   "source": [
    "#return last index\n",
    "\n",
    "def last(a,x,s):\n",
    "    l = len(a)\n",
    "    if s==l:\n",
    "        return -1\n",
    "    mylist = last(a,x,s+1)\n",
    "    if mylist  != -1:\n",
    "        return mylist\n",
    "    else:\n",
    "        if a[s]==x:\n",
    "            return s\n",
    "        else:\n",
    "            return -1"
   ]
  },
  {
   "cell_type": "code",
   "execution_count": 27,
   "metadata": {},
   "outputs": [
    {
     "name": "stdout",
     "output_type": "stream",
     "text": [
      "3\n"
     ]
    }
   ],
   "source": [
    "a = [1,4,3,4,5]\n",
    "x = 4\n",
    "s = 0\n",
    "print(last(a,x,s))"
   ]
  },
  {
   "cell_type": "code",
   "execution_count": 53,
   "metadata": {},
   "outputs": [],
   "source": [
    "def lastind(a,x):\n",
    "    i = 0\n",
    "    c =len(a)\n",
    "    b = a[::-1]\n",
    "    while i < len(b)-1:\n",
    "        if b[i] == x:\n",
    "            b = b[:i+1]\n",
    "        else:\n",
    "            i = i+1\n",
    "    d = len(b)\n",
    "    ind = c - d\n",
    "    if x not in a:\n",
    "        return -1\n",
    "    else:\n",
    "        return ind"
   ]
  },
  {
   "cell_type": "code",
   "execution_count": 56,
   "metadata": {},
   "outputs": [
    {
     "name": "stdout",
     "output_type": "stream",
     "text": [
      "3\n"
     ]
    }
   ],
   "source": [
    "a = [1,4,3,4,5]\n",
    "x = 4\n",
    "print(lastind(a,x))"
   ]
  },
  {
   "cell_type": "code",
   "execution_count": 59,
   "metadata": {},
   "outputs": [],
   "source": [
    "#sorting list\n",
    "def sort(a,s):\n",
    "    l = len(a)\n",
    "    if s == l-1 or s == l:\n",
    "        return True \n",
    "    if a[s] > a[s+1]:\n",
    "        return False\n",
    "    return sort(a,s+1)"
   ]
  },
  {
   "cell_type": "code",
   "execution_count": 62,
   "metadata": {},
   "outputs": [
    {
     "data": {
      "text/plain": [
       "True"
      ]
     },
     "execution_count": 62,
     "metadata": {},
     "output_type": "execute_result"
    }
   ],
   "source": [
    "a = [1,2,3,4]\n",
    "s =0\n",
    "sort(a,s)"
   ]
  },
  {
   "cell_type": "code",
   "execution_count": 6,
   "metadata": {},
   "outputs": [],
   "source": [
    "#replace a with b in list \n",
    "def replacechar(s,a,b):\n",
    "    l = len(s)\n",
    "    if l == 0:\n",
    "        return s\n",
    "    small = replacechar(s[1:],a,b)\n",
    "    if s[0] == a:\n",
    "        return b+small\n",
    "    else:\n",
    "        return s[0]+small"
   ]
  },
  {
   "cell_type": "code",
   "execution_count": 9,
   "metadata": {},
   "outputs": [
    {
     "data": {
      "text/plain": [
       "'dxxxd'"
      ]
     },
     "execution_count": 9,
     "metadata": {},
     "output_type": "execute_result"
    }
   ],
   "source": [
    "replacechar('dcxcd','c','x')"
   ]
  },
  {
   "cell_type": "code",
   "execution_count": 10,
   "metadata": {},
   "outputs": [],
   "source": [
    "def removechar(s,a):\n",
    "    if len(s) == 0:\n",
    "        return s\n",
    "    small = removechar(s[1:],a)\n",
    "    if s[0]==a:\n",
    "        return small\n",
    "    else:\n",
    "        return s[0]+small\n",
    "        "
   ]
  },
  {
   "cell_type": "code",
   "execution_count": 14,
   "metadata": {},
   "outputs": [
    {
     "data": {
      "text/plain": [
       "''"
      ]
     },
     "execution_count": 14,
     "metadata": {},
     "output_type": "execute_result"
    }
   ],
   "source": [
    "removechar('x','x')"
   ]
  },
  {
   "cell_type": "code",
   "execution_count": 17,
   "metadata": {},
   "outputs": [],
   "source": [
    "def replacepi(s):\n",
    "    if len(s)==0 or len(s)==1:\n",
    "        return s\n",
    "    if s[0] == 'p' and s[1] == 'i':\n",
    "        small = replacepi(s[2:])\n",
    "        return '3.14'+ small\n",
    "    else:\n",
    "        small = replacepi(s[1:])\n",
    "        return s[0] + small"
   ]
  },
  {
   "cell_type": "code",
   "execution_count": 18,
   "metadata": {},
   "outputs": [
    {
     "data": {
      "text/plain": [
       "'d3.14p3.14'"
      ]
     },
     "execution_count": 18,
     "metadata": {},
     "output_type": "execute_result"
    }
   ],
   "source": [
    "replacepi('dpippi')"
   ]
  },
  {
   "cell_type": "code",
   "execution_count": 27,
   "metadata": {},
   "outputs": [],
   "source": [
    "def removedup(s):\n",
    "    if len(s)==0 or len(s)==1:\n",
    "        return s\n",
    "    if s[0] == s[1]==s[2]:\n",
    "        small = removedup(s[3:])\n",
    "        return s[0] + small\n",
    "    elif s[0] == s[1]:\n",
    "        small = removedup(s[2:])\n",
    "        return s[0] + small\n",
    "    else:\n",
    "        small = removedup(s[1:])\n",
    "        return s[0] + small"
   ]
  },
  {
   "cell_type": "code",
   "execution_count": 30,
   "metadata": {},
   "outputs": [
    {
     "data": {
      "text/plain": [
       "'xyzwz'"
      ]
     },
     "execution_count": 30,
     "metadata": {},
     "output_type": "execute_result"
    }
   ],
   "source": [
    "removedup('xxxyyyzwwzzz')"
   ]
  },
  {
   "cell_type": "code",
   "execution_count": 10,
   "metadata": {},
   "outputs": [],
   "source": [
    "#binary search\n",
    "\n",
    "def binary_search(a,x,si,ei):\n",
    "    if si > ei:\n",
    "        return -1\n",
    "    \n",
    "    mid = (si+ei)//2\n",
    "    if a[mid] == x:\n",
    "        return mid\n",
    "    elif a[mid]>x:\n",
    "        return binary_search(a,x,si,mid-1)\n",
    "    else:\n",
    "        return binary_search(a,x,mid+1,ei)"
   ]
  },
  {
   "cell_type": "code",
   "execution_count": 15,
   "metadata": {},
   "outputs": [
    {
     "data": {
      "text/plain": [
       "-1"
      ]
     },
     "execution_count": 15,
     "metadata": {},
     "output_type": "execute_result"
    }
   ],
   "source": [
    "binary_search([0,1,2,3,4,5],6,0,5)"
   ]
  },
  {
   "cell_type": "code",
   "execution_count": 35,
   "metadata": {},
   "outputs": [],
   "source": [
    "def merge(a1,a2,a):\n",
    "    i = 0\n",
    "    j = 0\n",
    "    k = 0\n",
    "    while i < len(a1) and j < len(a2):\n",
    "        if (a1[i]<a2[j]):\n",
    "            a[k]=a1[i]\n",
    "            k = k+1\n",
    "            i = i+1\n",
    "        else:\n",
    "            a[k]=a2[j]\n",
    "            k = k+1\n",
    "            j = j+1\n",
    "    while i < len(a1):\n",
    "        a[k]=a1[i]\n",
    "        k = k+1\n",
    "        i = i+1\n",
    "    while j < len(a2):\n",
    "        a[k]=a2[j]\n",
    "        k = k+1\n",
    "        j = j+1"
   ]
  },
  {
   "cell_type": "code",
   "execution_count": 36,
   "metadata": {},
   "outputs": [],
   "source": [
    "# merge sort\n",
    "\n",
    "def merge_sort(a):\n",
    "    if len(a)==0 or len(a) == 1:\n",
    "        return \n",
    "    mid = len(a)//2\n",
    "    a1 = a[0:mid]\n",
    "    a2 = a[mid:]\n",
    "    merge_sort(a1)\n",
    "    merge_sort(a2)\n",
    "    merge(a1,a2,a)\n",
    "    \n"
   ]
  },
  {
   "cell_type": "code",
   "execution_count": 38,
   "metadata": {},
   "outputs": [
    {
     "data": {
      "text/plain": [
       "[1, 3, 4, 5, 7, 9, 10]"
      ]
     },
     "execution_count": 38,
     "metadata": {},
     "output_type": "execute_result"
    }
   ],
   "source": [
    "a= [10,5,7,3,9,4,1]\n",
    "merge_sort(a)\n",
    "a"
   ]
  },
  {
   "cell_type": "code",
   "execution_count": 45,
   "metadata": {},
   "outputs": [],
   "source": [
    "def quick_sort(a,si,ei):\n",
    "    if si>=ei:\n",
    "        return \n",
    "    pivot_index = partition(a,si,ei)\n",
    "    quick_sort(a,si,pivot_index-1)\n",
    "    quick_sort(a,pivot_index+1,ei)    "
   ]
  },
  {
   "cell_type": "code",
   "execution_count": 46,
   "metadata": {},
   "outputs": [],
   "source": [
    "def  partition(a,si,ei):\n",
    "    pivot=a[si]\n",
    "    c= 0\n",
    "    for i in range(si,ei+1):\n",
    "        if a[i]<pivot:\n",
    "            c = c+1\n",
    "    a[si+c],a[si] = a[si],a[si+c]\n",
    "    pivot_index = si+c\n",
    "    \n",
    "    i = si\n",
    "    j = ei\n",
    "    while i<j:\n",
    "        if a[i]<pivot:\n",
    "            i = i +1\n",
    "        elif a[j] >= pivot:\n",
    "            j = j-1\n",
    "        else:\n",
    "            a[i],a[j] = a[j], a[i]\n",
    "            i = i +1\n",
    "            j = j-1\n",
    "    return pivot_index"
   ]
  },
  {
   "cell_type": "code",
   "execution_count": 48,
   "metadata": {},
   "outputs": [
    {
     "data": {
      "text/plain": [
       "[1, 2, 3, 4, 5, 7, 8, 9]"
      ]
     },
     "execution_count": 48,
     "metadata": {},
     "output_type": "execute_result"
    }
   ],
   "source": [
    "a = [3,5,4,2,8,1,9,7]\n",
    "quick_sort(a,0,len(a)-1)\n",
    "a"
   ]
  },
  {
   "cell_type": "code",
   "execution_count": 73,
   "metadata": {},
   "outputs": [],
   "source": [
    "#tower of hanoi\n",
    "\n",
    "def tower(n,a,b,c):\n",
    "    if n == 1:\n",
    "        print(\"move 1 from {} to {}\".format(a,b))\n",
    "        return\n",
    "    tower(n-1,a,c,b)\n",
    "    print(\"move {} from {} to {}\".format(n,a,b))\n",
    "    tower(n-1,b,a,c)"
   ]
  },
  {
   "cell_type": "code",
   "execution_count": 74,
   "metadata": {},
   "outputs": [
    {
     "name": "stdout",
     "output_type": "stream",
     "text": [
      "move 1 from s to d\n",
      "move 2 from s to h\n",
      "move 1 from h to s\n",
      "move 3 from s to d\n",
      "move 1 from d to h\n",
      "move 2 from d to s\n",
      "move 1 from s to d\n",
      "move 4 from s to h\n",
      "move 1 from h to s\n",
      "move 2 from h to d\n",
      "move 1 from d to h\n",
      "move 3 from h to s\n",
      "move 1 from s to d\n",
      "move 2 from s to h\n",
      "move 1 from h to s\n"
     ]
    }
   ],
   "source": [
    "tower(4,'s','h','d')"
   ]
  },
  {
   "cell_type": "code",
   "execution_count": null,
   "metadata": {},
   "outputs": [],
   "source": []
  }
 ],
 "metadata": {
  "kernelspec": {
   "display_name": "Python 3",
   "language": "python",
   "name": "python3"
  },
  "language_info": {
   "codemirror_mode": {
    "name": "ipython",
    "version": 3
   },
   "file_extension": ".py",
   "mimetype": "text/x-python",
   "name": "python",
   "nbconvert_exporter": "python",
   "pygments_lexer": "ipython3",
   "version": "3.8.3"
  }
 },
 "nbformat": 4,
 "nbformat_minor": 4
}
