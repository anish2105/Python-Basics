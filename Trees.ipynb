{
 "cells": [
  {
   "cell_type": "code",
   "execution_count": 35,
   "metadata": {},
   "outputs": [],
   "source": [
    "class Binarynode:\n",
    "    def __init__(self,data):\n",
    "        self.data = data\n",
    "        self.left = None\n",
    "        self.right = None"
   ]
  },
  {
   "cell_type": "code",
   "execution_count": 7,
   "metadata": {},
   "outputs": [],
   "source": [
    "bt1 = Binarynode(1)\n",
    "bt2 = Binarynode(4)\n",
    "bt3 = Binarynode(5)"
   ]
  },
  {
   "cell_type": "code",
   "execution_count": 8,
   "metadata": {},
   "outputs": [],
   "source": [
    "bt1.left = bt2\n",
    "bt1.right = bt3"
   ]
  },
  {
   "cell_type": "code",
   "execution_count": 36,
   "metadata": {},
   "outputs": [],
   "source": [
    "def printtreedetailed(root):\n",
    "    if root == None:\n",
    "        return\n",
    "    print(root.data,end = ':')\n",
    "    if root.left != None:\n",
    "        print(\"L\",root.left.data,end = ',')\n",
    "    if root.right != None:\n",
    "        print(\"R\",root.right.data,end = '')\n",
    "    print()\n",
    "    printtreedetailed(root.left)\n",
    "    printtreedetailed(root.right)"
   ]
  },
  {
   "cell_type": "code",
   "execution_count": 10,
   "metadata": {},
   "outputs": [
    {
     "name": "stdout",
     "output_type": "stream",
     "text": [
      "1:L 4,R 5\n",
      "4:\n",
      "5:\n"
     ]
    }
   ],
   "source": [
    "printtreedetailed(bt1)"
   ]
  },
  {
   "cell_type": "code",
   "execution_count": 37,
   "metadata": {},
   "outputs": [],
   "source": [
    "#\n",
    "#\n",
    "#\n",
    "def treeinput():\n",
    "    data = int(input())\n",
    "    if data == -1:\n",
    "        return None\n",
    "    root =  Binarynode(data)\n",
    "    leftside = treeinput()\n",
    "    rightside = treeinput()\n",
    "    root.left = leftside\n",
    "    root.right = rightside\n",
    "    return root"
   ]
  },
  {
   "cell_type": "code",
   "execution_count": 13,
   "metadata": {},
   "outputs": [
    {
     "name": "stdout",
     "output_type": "stream",
     "text": [
      "1\n",
      "2\n",
      "-1\n",
      "-1\n",
      "-1\n",
      "\n",
      "1:L 2,\n",
      "2:\n"
     ]
    }
   ],
   "source": [
    "root = treeinput()\n",
    "print()\n",
    "printtreedetailed(root)"
   ]
  },
  {
   "cell_type": "code",
   "execution_count": 14,
   "metadata": {},
   "outputs": [],
   "source": [
    "def countnodes(root):\n",
    "    if root == None:\n",
    "        return 0\n",
    "    leftcount  = countnodes(root.left)\n",
    "    rightcount = countnodes(root.right)\n",
    "    return 1 + leftcount + rightcount"
   ]
  },
  {
   "cell_type": "code",
   "execution_count": 18,
   "metadata": {},
   "outputs": [
    {
     "name": "stdout",
     "output_type": "stream",
     "text": [
      "1\n",
      "2\n",
      "4\n",
      "-1\n",
      "-1\n",
      "-1\n",
      "3\n",
      "-1\n",
      "5\n",
      "-1\n",
      "-1\n",
      "\n",
      "1:L 2,R 3\n",
      "2:L 4,\n",
      "4:\n",
      "3:R 5\n",
      "5:\n",
      "\n",
      "5\n"
     ]
    }
   ],
   "source": [
    "root = treeinput()\n",
    "print()\n",
    "printtreedetailed(root)\n",
    "print()\n",
    "print(countnodes(root))"
   ]
  },
  {
   "cell_type": "code",
   "execution_count": 19,
   "metadata": {},
   "outputs": [],
   "source": [
    "def preeprinttree(root):\n",
    "    printtreedetailed(root.left)\n",
    "    printtreedetailed(root.right)\n",
    "    if root == None:\n",
    "        return\n",
    "    print(root.data,end = ':')\n",
    "    if root.left != None:\n",
    "        print(\"L\",root.left.data,end = ',')\n",
    "    if root.right != None:\n",
    "        print(\"R\",root.right.data,end = '')\n",
    "    print()\n",
    "    "
   ]
  },
  {
   "cell_type": "code",
   "execution_count": 21,
   "metadata": {},
   "outputs": [
    {
     "name": "stdout",
     "output_type": "stream",
     "text": [
      "1\n",
      "2\n",
      "3\n",
      "4\n",
      "5\n",
      "6\n",
      "7\n",
      "-1\n",
      "-1\n",
      "-1\n",
      "-1\n",
      "-1\n",
      "-1\n",
      "-1\n",
      "-1\n",
      "\n",
      "2:L 3,\n",
      "3:L 4,\n",
      "4:L 5,\n",
      "5:L 6,\n",
      "6:L 7,\n",
      "7:\n",
      "1:L 2,\n",
      "\n",
      "7\n"
     ]
    }
   ],
   "source": [
    "root = treeinput()\n",
    "print()\n",
    "preeprinttree(root)\n",
    "print()\n",
    "print(countnodes(root))"
   ]
  },
  {
   "cell_type": "code",
   "execution_count": 15,
   "metadata": {},
   "outputs": [],
   "source": [
    "def largestnode(root):\n",
    "    if root == None:\n",
    "        return -1\n",
    "    leftlargest = largestnode(root.left)\n",
    "    rightlargest = largestnode(root.right)\n",
    "    largest = max(leftlargest,rightlargest,root.data)\n",
    "    return largest"
   ]
  },
  {
   "cell_type": "code",
   "execution_count": 26,
   "metadata": {},
   "outputs": [
    {
     "name": "stdout",
     "output_type": "stream",
     "text": [
      "10\n",
      "20\n",
      "5\n",
      "-1\n",
      "-1\n",
      "9\n",
      "-1\n",
      "-1\n",
      "13\n",
      "-1\n",
      "-1\n",
      "\n",
      "20:L 5,R 9\n",
      "5:\n",
      "9:\n",
      "13:\n",
      "10:L 20,R 13\n",
      "\n",
      "5\n",
      "\n"
     ]
    },
    {
     "data": {
      "text/plain": [
       "20"
      ]
     },
     "execution_count": 26,
     "metadata": {},
     "output_type": "execute_result"
    }
   ],
   "source": [
    "root = treeinput()\n",
    "print()\n",
    "preeprinttree(root)\n",
    "print()\n",
    "print(countnodes(root))\n",
    "print()\n",
    "largestnode(root)"
   ]
  },
  {
   "cell_type": "code",
   "execution_count": 27,
   "metadata": {},
   "outputs": [],
   "source": [
    "def numleafnodes(root):\n",
    "    if root == None:\n",
    "        return 0\n",
    "    if root.left == None and root.right == None:\n",
    "        return 1\n",
    "    noleftnodes = numleafnodes(root.left)\n",
    "    norightnodes = numleafnodes(root.right)\n",
    "    return noleftnodes+norightnodes"
   ]
  },
  {
   "cell_type": "code",
   "execution_count": 28,
   "metadata": {},
   "outputs": [
    {
     "name": "stdout",
     "output_type": "stream",
     "text": [
      "1\n",
      "2\n",
      "4\n",
      "-1\n",
      "-1\n",
      "-1\n",
      "3\n",
      "5\n",
      "6\n",
      "-1\n",
      "-1\n",
      "7\n",
      "-1\n",
      "-1\n",
      "-1\n",
      "\n",
      "2:L 4,\n",
      "4:\n",
      "3:L 5,\n",
      "5:L 6,R 7\n",
      "6:\n",
      "7:\n",
      "1:L 2,R 3\n",
      "\n",
      "7\n",
      "\n",
      "\n"
     ]
    },
    {
     "data": {
      "text/plain": [
       "3"
      ]
     },
     "execution_count": 28,
     "metadata": {},
     "output_type": "execute_result"
    }
   ],
   "source": [
    "root = treeinput()\n",
    "print()\n",
    "preeprinttree(root)\n",
    "print()\n",
    "print(countnodes(root))\n",
    "print()\n",
    "largestnode(root)\n",
    "print()\n",
    "numleafnodes(root)"
   ]
  },
  {
   "cell_type": "code",
   "execution_count": 29,
   "metadata": {},
   "outputs": [],
   "source": [
    "def remleaves(root):\n",
    "    if root == None:\n",
    "        return None\n",
    "    if root.left == None and root.right == None:\n",
    "        return None\n",
    "    root.left = remleaves(root.left)\n",
    "    root.right = remleaves(root.right)\n",
    "    return root"
   ]
  },
  {
   "cell_type": "code",
   "execution_count": 34,
   "metadata": {},
   "outputs": [
    {
     "name": "stdout",
     "output_type": "stream",
     "text": [
      "1\n",
      "2\n",
      "-1\n",
      "-1\n",
      "-1\n",
      "\n",
      "1:L 2,\n",
      "2:\n",
      "\n",
      "\n",
      "1:\n"
     ]
    }
   ],
   "source": [
    "root = treeinput()\n",
    "print()\n",
    "printtreedetailed(root)\n",
    "print()\n",
    "root = remleaves(root)\n",
    "print()\n",
    "printtreedetailed(root)"
   ]
  },
  {
   "cell_type": "code",
   "execution_count": 46,
   "metadata": {},
   "outputs": [],
   "source": [
    "def largensmall(root):\n",
    "    if root == None:\n",
    "        return -1\n",
    "    leftlargest = largestnode(root.left)\n",
    "    rightlargest = largestnode(root.right)\n",
    "    largest = max(leftlargest,rightlargest,root.data)\n",
    "    smallest = min(leftlargest,rightlargest,root.data)\n",
    "    return largest,smallest"
   ]
  },
  {
   "cell_type": "code",
   "execution_count": 47,
   "metadata": {},
   "outputs": [
    {
     "name": "stdout",
     "output_type": "stream",
     "text": [
      "1\n",
      "2\n",
      "-1\n",
      "-1\n",
      "3\n",
      "-1\n",
      "-1\n",
      "\n",
      "1:L 2,R 3\n",
      "2:\n",
      "3:\n",
      "\n"
     ]
    },
    {
     "data": {
      "text/plain": [
       "(3, 1)"
      ]
     },
     "execution_count": 47,
     "metadata": {},
     "output_type": "execute_result"
    }
   ],
   "source": [
    "root = treeinput()\n",
    "print()\n",
    "printtreedetailed(root)\n",
    "print()\n",
    "largensmall(root)"
   ]
  },
  {
   "cell_type": "code",
   "execution_count": 24,
   "metadata": {},
   "outputs": [],
   "source": [
    "#balance tree\n",
    "def height(root):\n",
    "    if root == None:\n",
    "        return 0\n",
    "    return 1 + max(height(root.left),height(root.right))"
   ]
  },
  {
   "cell_type": "code",
   "execution_count": 25,
   "metadata": {},
   "outputs": [],
   "source": [
    "def isbalanced(root):\n",
    "    if root == None:\n",
    "        return True\n",
    "    lh = height(root.left)\n",
    "    rh = height(root.right)\n",
    "    if lh -rh > 1 or rh - lh > 1:\n",
    "        return False\n",
    "    isleftbalanced = isbalanced(root.left)\n",
    "    isrightbalanced = isbalanced(root.right)\n",
    "    if isleftbalanced and isrightbalanced:\n",
    "        return True\n",
    "    else:\n",
    "        return False"
   ]
  },
  {
   "cell_type": "code",
   "execution_count": 27,
   "metadata": {},
   "outputs": [
    {
     "name": "stdout",
     "output_type": "stream",
     "text": [
      "1\n",
      "2\n",
      "-1\n",
      "4\n",
      "-1\n",
      "-1\n",
      "3\n",
      "-1\n",
      "-1\n",
      "\n",
      "1:L 2,R 3\n",
      "2:R 4\n",
      "4:\n",
      "3:\n",
      "\n",
      "True\n"
     ]
    }
   ],
   "source": [
    "root = treeinput()\n",
    "print()\n",
    "printtreedetailed(root)\n",
    "print()\n",
    "print(isbalanced(root))"
   ]
  },
  {
   "cell_type": "code",
   "execution_count": 55,
   "metadata": {},
   "outputs": [],
   "source": [
    "#level wise\n",
    "\n",
    "import queue\n",
    "def levelwise():\n",
    "    q = queue.Queue()\n",
    "    print(\"Enter root\")\n",
    "    rootdata = int(input())\n",
    "    if rootdata == -1:\n",
    "        return None\n",
    "    root = Binarynode(rootdata)\n",
    "    q.put(root)\n",
    "    while(not(q.empty())):\n",
    "        current_node = q.get()\n",
    "        print(\"Enter left child of \",current_node.data)\n",
    "        leftchilddata = int(input())\n",
    "        if leftchilddata != -1:\n",
    "            leftchild = Binarynode(leftchilddata)\n",
    "            current_node.left = leftchild\n",
    "            q.put(leftchild)\n",
    "        print(\"Enter right child of \",current_node.data)\n",
    "        rightchilddata = int(input())\n",
    "        if rightchilddata != -1:\n",
    "            rightchild = Binarynode(rightchilddata)\n",
    "            current_node.right = rightchild\n",
    "            q.put(rightchild)   \n",
    "        \n",
    "    return root"
   ]
  },
  {
   "cell_type": "code",
   "execution_count": 33,
   "metadata": {},
   "outputs": [
    {
     "name": "stdout",
     "output_type": "stream",
     "text": [
      "Enter root\n",
      "1\n",
      "Enter left child of  1\n",
      "2\n",
      "Enter right child of  1\n",
      "3\n",
      "Enter left child of  2\n",
      "-1\n",
      "Enter right child of  2\n",
      "-1\n",
      "Enter left child of  3\n",
      "-1\n",
      "Enter right child of  3\n",
      "-1\n",
      "\n",
      "1:L 2,R 3\n",
      "2:\n",
      "3:\n"
     ]
    }
   ],
   "source": [
    "root = levelwise()\n",
    "print()\n",
    "printtreedetailed(root)"
   ]
  },
  {
   "cell_type": "code",
   "execution_count": 53,
   "metadata": {},
   "outputs": [],
   "source": [
    "def search(root,x):\n",
    "    if root == None:\n",
    "        return False\n",
    "    if root.data == x:\n",
    "        return True\n",
    "    elif root.data > x:\n",
    "        return search(root.left,x)\n",
    "    else:\n",
    "        return search(root.right,x)"
   ]
  },
  {
   "cell_type": "code",
   "execution_count": 59,
   "metadata": {},
   "outputs": [
    {
     "name": "stdout",
     "output_type": "stream",
     "text": [
      "8\n",
      "5\n",
      "10\n",
      "2\n",
      "6\n",
      "-1\n",
      "-1\n",
      "-1\n",
      "-1\n",
      "-1\n",
      "7\n",
      "-1\n",
      "-1\n",
      "\n",
      "8:L 5,R 7\n",
      "5:L 10,\n",
      "10:L 2,\n",
      "2:L 6,\n",
      "6:\n",
      "7:\n",
      "\n"
     ]
    },
    {
     "data": {
      "text/plain": [
       "True"
      ]
     },
     "execution_count": 59,
     "metadata": {},
     "output_type": "execute_result"
    }
   ],
   "source": [
    "root = treeinput()\n",
    "print()\n",
    "printtreedetailed(root)\n",
    "print()\n",
    "#8 5 10 2 6 -1 -1 -1 -1 -1 7 -1 -1\n",
    "search(root,2)"
   ]
  },
  {
   "cell_type": "code",
   "execution_count": 62,
   "metadata": {},
   "outputs": [],
   "source": [
    "def printbtwk1k2(root,k1,k2):\n",
    "    if root == None:\n",
    "        return \n",
    "    if root.data >k2:\n",
    "        printbtwk1k2(root.left,k1,k2)\n",
    "    elif root.data < k1:\n",
    "        printbtwk1k2(root.right,k1,k2)\n",
    "    else:\n",
    "        print(root.data)\n",
    "        printbtwk1k2(root.left,k1,k2)\n",
    "        printbtwk1k2(root.right,k1,k2)\n",
    "    "
   ]
  },
  {
   "cell_type": "code",
   "execution_count": 63,
   "metadata": {},
   "outputs": [
    {
     "name": "stdout",
     "output_type": "stream",
     "text": [
      "Enter root\n",
      "4\n",
      "Enter left child of  4\n",
      "2\n",
      "Enter right child of  4\n",
      "10\n",
      "Enter left child of  2\n",
      "1\n",
      "Enter right child of  2\n",
      "3\n",
      "Enter left child of  10\n",
      "7\n",
      "Enter right child of  10\n",
      "12\n",
      "Enter left child of  1\n",
      "-1\n",
      "Enter right child of  1\n",
      "-1\n",
      "Enter left child of  3\n",
      "-1\n",
      "Enter right child of  3\n",
      "-1\n",
      "Enter left child of  7\n",
      "5\n",
      "Enter right child of  7\n",
      "6\n",
      "Enter left child of  12\n",
      "11\n",
      "Enter right child of  12\n",
      "18\n",
      "Enter left child of  5\n",
      "-1\n",
      "Enter right child of  5\n",
      "-1\n",
      "Enter left child of  6\n",
      "-1\n",
      "Enter right child of  6\n",
      "-1\n",
      "Enter left child of  11\n",
      "-1\n",
      "Enter right child of  11\n",
      "-1\n",
      "Enter left child of  18\n",
      "-1\n",
      "Enter right child of  18\n",
      "-1\n",
      "\n",
      "4:L 2,R 10\n",
      "2:L 1,R 3\n",
      "1:\n",
      "3:\n",
      "10:L 7,R 12\n",
      "7:L 5,R 6\n",
      "5:\n",
      "6:\n",
      "12:L 11,R 18\n",
      "11:\n",
      "18:\n",
      "\n",
      "10\n",
      "7\n",
      "5\n",
      "6\n"
     ]
    }
   ],
   "source": [
    "root = levelwise()\n",
    "print()\n",
    "printtreedetailed(root)\n",
    "print()\n",
    "#8 5 10 2 6 -1 -1 -1 -1 -1 7 -1 -1\n",
    "printbtwk1k2(root,5,10)"
   ]
  },
  {
   "cell_type": "code",
   "execution_count": 71,
   "metadata": {},
   "outputs": [],
   "source": [
    "def isbst(root):\n",
    "    if root == None:\n",
    "        return True\n",
    "    ls = maxi(root.left)\n",
    "    rs = mini(root.right)\n",
    "    if root.data > rs and root.data <= ls:\n",
    "        return False\n",
    "    isleftbst = isbst(root.left)\n",
    "    isrgtbst = isbst(root.right)\n",
    "    return isleftbst and isrgtbst\n",
    "    \n",
    "    "
   ]
  },
  {
   "cell_type": "code",
   "execution_count": 76,
   "metadata": {},
   "outputs": [],
   "source": [
    "def mini(root):\n",
    "    if root == None:\n",
    "        return 10000\n",
    "    leftmin = mini(root.left)\n",
    "    rightmin = mini(root.right)\n",
    "    return min(leftmin,rightmin,root.data)"
   ]
  },
  {
   "cell_type": "code",
   "execution_count": 77,
   "metadata": {},
   "outputs": [],
   "source": [
    "def maxi(root):\n",
    "    if root == None:\n",
    "        return -10000\n",
    "    leftmax = maxi(root.left)\n",
    "    rightmax = maxi(root.right)\n",
    "    return min(leftmax,rightmax,root.data)"
   ]
  },
  {
   "cell_type": "code",
   "execution_count": 79,
   "metadata": {},
   "outputs": [
    {
     "name": "stdout",
     "output_type": "stream",
     "text": [
      "Enter root\n",
      "8\n",
      "Enter left child of  8\n",
      "5\n",
      "Enter right child of  8\n",
      "10\n",
      "Enter left child of  5\n",
      "2\n",
      "Enter right child of  5\n",
      "6\n",
      "Enter left child of  10\n",
      "-1\n",
      "Enter right child of  10\n",
      "-1\n",
      "Enter left child of  2\n",
      "-1\n",
      "Enter right child of  2\n",
      "-1\n",
      "Enter left child of  6\n",
      "-1\n",
      "Enter right child of  6\n",
      "-1\n",
      "\n",
      "8:L 5,R 10\n",
      "5:L 2,R 6\n",
      "2:\n",
      "6:\n",
      "10:\n",
      "\n"
     ]
    },
    {
     "data": {
      "text/plain": [
       "True"
      ]
     },
     "execution_count": 79,
     "metadata": {},
     "output_type": "execute_result"
    }
   ],
   "source": [
    "root = levelwise()\n",
    "print()\n",
    "printtreedetailed(root)\n",
    "print()\n",
    "#8 5 10 2 6 -1 -1 -1 -1 -1 7 -1 -1\n",
    "isbst(root)"
   ]
  },
  {
   "cell_type": "code",
   "execution_count": 82,
   "metadata": {},
   "outputs": [],
   "source": [
    "def nodetoroot(root,s):\n",
    "    if root == None:\n",
    "        return None\n",
    "    if root.data == s:\n",
    "        l =list()\n",
    "        l.append(root.data)\n",
    "        return l\n",
    "    ls = nodetoroot(root.left,s)\n",
    "    if ls != None:\n",
    "        ls.append(root.data)\n",
    "        return ls\n",
    "    rs = nodetoroot(root.right,s)\n",
    "    if rs != None:\n",
    "        rs.append(root.data)\n",
    "        return rs\n",
    "    else:\n",
    "        return None"
   ]
  },
  {
   "cell_type": "code",
   "execution_count": 83,
   "metadata": {},
   "outputs": [
    {
     "name": "stdout",
     "output_type": "stream",
     "text": [
      "Enter root\n",
      "1\n",
      "Enter left child of  1\n",
      "2\n",
      "Enter right child of  1\n",
      "3\n",
      "Enter left child of  2\n",
      "-1\n",
      "Enter right child of  2\n",
      "-1\n",
      "Enter left child of  3\n",
      "4\n",
      "Enter right child of  3\n",
      "6\n",
      "Enter left child of  4\n",
      "-1\n",
      "Enter right child of  4\n",
      "-1\n",
      "Enter left child of  6\n",
      "5\n",
      "Enter right child of  6\n",
      "9\n",
      "Enter left child of  5\n",
      "7\n",
      "Enter right child of  5\n",
      "8\n",
      "Enter left child of  9\n",
      "-1\n",
      "Enter right child of  9\n",
      "-1\n",
      "Enter left child of  7\n",
      "-1\n",
      "Enter right child of  7\n",
      "-1\n",
      "Enter left child of  8\n",
      "-1\n",
      "Enter right child of  8\n",
      "-1\n",
      "\n",
      "1:L 2,R 3\n",
      "2:\n",
      "3:L 4,R 6\n",
      "4:\n",
      "6:L 5,R 9\n",
      "5:L 7,R 8\n",
      "7:\n",
      "8:\n",
      "9:\n",
      "\n"
     ]
    },
    {
     "data": {
      "text/plain": [
       "[5, 6, 3, 1]"
      ]
     },
     "execution_count": 83,
     "metadata": {},
     "output_type": "execute_result"
    }
   ],
   "source": [
    "root = levelwise()\n",
    "print()\n",
    "printtreedetailed(root)\n",
    "print()\n",
    "nodetoroot(root,5)"
   ]
  },
  {
   "cell_type": "code",
   "execution_count": 84,
   "metadata": {},
   "outputs": [],
   "source": [
    "#structure of bst\n",
    "class BinaryNode:\n",
    "    def __init__(self,data):\n",
    "        self.data = data\n",
    "        self.left = None\n",
    "        self.right = None"
   ]
  },
  {
   "cell_type": "code",
   "execution_count": 121,
   "metadata": {},
   "outputs": [],
   "source": [
    "class bst:\n",
    "    def __init__(self):\n",
    "        self.root = None\n",
    "        self.numnodes = 0\n",
    "        \n",
    "    def printbsthelper(self,root):\n",
    "        if root == None:\n",
    "            return\n",
    "        print(root.data,end = ':')\n",
    "        if root.left != None:\n",
    "            print(\"L\",root.left.data,end = ',')\n",
    "        if root.right != None:\n",
    "            print(\"R\",root.right.data,end = '')\n",
    "        print()\n",
    "        self.printbsthelper(root.left)\n",
    "        self.printbsthelper(root.right)\n",
    "        \n",
    "    def printbst(self):\n",
    "        self.printbsthelper(self.root)\n",
    "    \n",
    "    def ispresenthelper(self,root,data):\n",
    "        if root == None:\n",
    "            return False\n",
    "        if root.data == data:\n",
    "            return True\n",
    "        if root.data > data:\n",
    "            return self.ispresenthelper(root.left,data)\n",
    "        else:\n",
    "            return self.ispresenthelper(root.right,data)\n",
    "        \n",
    "    def ispreset(self,data):\n",
    "        self.ispresenthelper(self.root,data)\n",
    "    def inserthelper(self,root,data):\n",
    "        if root == None:\n",
    "            node = BinaryNode(data)\n",
    "            return node\n",
    "        if root.data > data:\n",
    "            root.left = self.inserthelper(root.left,data)\n",
    "            return root\n",
    "        else:\n",
    "            root.right = self.inserthelper(root.right,data)\n",
    "            return root\n",
    "    \n",
    "    def insert(self,data):\n",
    "        self.numnodes +=1\n",
    "        self.root = self.inserthelper(self.root,data)\n",
    "    \n",
    "    def mini(self,root):\n",
    "        if root == None:\n",
    "            return 10000\n",
    "        if root.left == None:\n",
    "            return root.data\n",
    "        return self.mini(root.left)\n",
    "    \n",
    "    def deletedhelper(self,root,data):\n",
    "        if root == None:\n",
    "            return False,None\n",
    "            \n",
    "        if root.data < data:\n",
    "            deleted,newrightnode = self.deletedhelper(root.right,data)\n",
    "            root.right = newrightnode\n",
    "            return deleted,root\n",
    "        \n",
    "        if root.data > data:\n",
    "            deleted,newleftnode = self.deletedhelper(root.left,data)\n",
    "            root.left = newleftnode\n",
    "            return deleted,root\n",
    "        #root is left\n",
    "        if root.left == None and root.right == None:\n",
    "            return True , None\n",
    "        \n",
    "        #root has one child\n",
    "        if root.left == None:\n",
    "            return True,root.right\n",
    "        if root.right == None:\n",
    "            return True, root.left\n",
    "        \n",
    "        #root has 2 children\n",
    "        replacement = mini(root.right)\n",
    "        root.data = replacement\n",
    "        deleted,newrightnode = self.deletedhelper(root.right,replacement)\n",
    "        root.right = newrightnode\n",
    "        return True,root\n",
    "        \n",
    "    \n",
    "    def delete(self,data):\n",
    "        deleted ,newroot = self.deletedhelper(self.root,data)\n",
    "        if deleted:\n",
    "            self.numnodes -=1\n",
    "        self.root = newroot\n",
    "        return deleted\n",
    "    \n",
    "    def count(self):\n",
    "        return self.numnodes\n",
    "    "
   ]
  },
  {
   "cell_type": "code",
   "execution_count": 122,
   "metadata": {},
   "outputs": [
    {
     "name": "stdout",
     "output_type": "stream",
     "text": [
      "12:L 5,\n",
      "5:\n"
     ]
    },
    {
     "data": {
      "text/plain": [
       "2"
      ]
     },
     "execution_count": 122,
     "metadata": {},
     "output_type": "execute_result"
    }
   ],
   "source": [
    "b = bst()\n",
    "b.insert(10)\n",
    "b.insert(5)\n",
    "b.insert(12)\n",
    "b.delete(10)\n",
    "b.printbst()\n",
    "b.count()"
   ]
  },
  {
   "cell_type": "code",
   "execution_count": null,
   "metadata": {},
   "outputs": [],
   "source": []
  }
 ],
 "metadata": {
  "kernelspec": {
   "display_name": "Python 3",
   "language": "python",
   "name": "python3"
  },
  "language_info": {
   "codemirror_mode": {
    "name": "ipython",
    "version": 3
   },
   "file_extension": ".py",
   "mimetype": "text/x-python",
   "name": "python",
   "nbconvert_exporter": "python",
   "pygments_lexer": "ipython3",
   "version": "3.8.3"
  }
 },
 "nbformat": 4,
 "nbformat_minor": 4
}
