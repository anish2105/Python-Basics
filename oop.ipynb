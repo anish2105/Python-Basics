{
 "cells": [
  {
   "cell_type": "code",
   "execution_count": 1,
   "metadata": {},
   "outputs": [],
   "source": [
    "#for empty class\n",
    "\n",
    "class Student:\n",
    "    pass"
   ]
  },
  {
   "cell_type": "code",
   "execution_count": 2,
   "metadata": {},
   "outputs": [],
   "source": [
    "s1 = Student()"
   ]
  },
  {
   "cell_type": "code",
   "execution_count": 3,
   "metadata": {},
   "outputs": [
    {
     "name": "stdout",
     "output_type": "stream",
     "text": [
      "<__main__.Student object at 0x0000022B67DBB1F0>\n"
     ]
    }
   ],
   "source": [
    "print(s1)"
   ]
  },
  {
   "cell_type": "code",
   "execution_count": 4,
   "metadata": {},
   "outputs": [],
   "source": [
    "s1.name = 'Anish'"
   ]
  },
  {
   "cell_type": "code",
   "execution_count": 6,
   "metadata": {},
   "outputs": [
    {
     "data": {
      "text/plain": [
       "{'name': 'Anish'}"
      ]
     },
     "execution_count": 6,
     "metadata": {},
     "output_type": "execute_result"
    }
   ],
   "source": [
    "s1.__dict__"
   ]
  },
  {
   "cell_type": "code",
   "execution_count": 8,
   "metadata": {},
   "outputs": [
    {
     "data": {
      "text/plain": [
       "True"
      ]
     },
     "execution_count": 8,
     "metadata": {},
     "output_type": "execute_result"
    }
   ],
   "source": [
    "hasattr(s1,'name')"
   ]
  },
  {
   "cell_type": "code",
   "execution_count": 9,
   "metadata": {},
   "outputs": [
    {
     "data": {
      "text/plain": [
       "False"
      ]
     },
     "execution_count": 9,
     "metadata": {},
     "output_type": "execute_result"
    }
   ],
   "source": [
    "hasattr(s1,'roll')"
   ]
  },
  {
   "cell_type": "code",
   "execution_count": 10,
   "metadata": {},
   "outputs": [
    {
     "data": {
      "text/plain": [
       "'Anish'"
      ]
     },
     "execution_count": 10,
     "metadata": {},
     "output_type": "execute_result"
    }
   ],
   "source": [
    "getattr(s1,'name')"
   ]
  },
  {
   "cell_type": "code",
   "execution_count": 14,
   "metadata": {},
   "outputs": [
    {
     "data": {
      "text/plain": [
       "'21'"
      ]
     },
     "execution_count": 14,
     "metadata": {},
     "output_type": "execute_result"
    }
   ],
   "source": [
    "getattr(s1,'roll',\"21\")"
   ]
  },
  {
   "cell_type": "code",
   "execution_count": 16,
   "metadata": {},
   "outputs": [],
   "source": [
    "delattr(s1,'name')"
   ]
  },
  {
   "cell_type": "code",
   "execution_count": 18,
   "metadata": {},
   "outputs": [
    {
     "data": {
      "text/plain": [
       "{}"
      ]
     },
     "execution_count": 18,
     "metadata": {},
     "output_type": "execute_result"
    }
   ],
   "source": [
    "s1.__dict__"
   ]
  },
  {
   "cell_type": "code",
   "execution_count": 86,
   "metadata": {},
   "outputs": [
    {
     "name": "stdout",
     "output_type": "stream",
     "text": [
      "\n",
      "\n",
      "Name =  Anish\n",
      "Percentage =  35\n",
      "\n",
      "\n",
      "Failed\n",
      "\n",
      "\n",
      "Name =  Anish\n",
      "Age =  60\n",
      "35\n",
      "\n",
      "\n",
      "Welcome to  school\n",
      "\n",
      "\n"
     ]
    }
   ],
   "source": [
    "#self\n",
    "class Student:\n",
    "    age = 60\n",
    "    passingpercentage = 40\n",
    "    def studentDetails(self):\n",
    "        self.name = 'Anish'\n",
    "        print(\"Name = \",self.name)\n",
    "        self.percentage = 35\n",
    "        print(\"Percentage = \",self.percentage)\n",
    "    def IsPassed(self):\n",
    "        if self.percentage> Student.passingpercentage:\n",
    "            print(\"Passed\")\n",
    "        else:\n",
    "            print(\"Failed\")\n",
    "    def printf(self):\n",
    "        print(\"Name = \",self.name,end = '\\n')\n",
    "        print(\"Age = \",self.age)\n",
    "        print(self.percentage)\n",
    "    @staticmethod\n",
    "    def welcome():\n",
    "        print(\"Welcome to  school\")\n",
    "        \n",
    "        \n",
    "s1 = Student()\n",
    "print('\\n')\n",
    "s1.studentDetails()\n",
    "print('\\n')\n",
    "s1.IsPassed()\n",
    "print('\\n')\n",
    "s1.printf()\n",
    "print('\\n')\n",
    "s1.welcome()\n",
    "print('\\n')"
   ]
  },
  {
   "cell_type": "code",
   "execution_count": 87,
   "metadata": {},
   "outputs": [],
   "source": [
    "#init fnctiom\n",
    "class Stu:\n",
    "    def __init__(self,name,rollnumber):\n",
    "        self.name = name\n",
    "        self.rollnumber = rollnumber\n",
    "s1 = Stu('Anish',19)"
   ]
  },
  {
   "cell_type": "code",
   "execution_count": 126,
   "metadata": {},
   "outputs": [
    {
     "name": "stdout",
     "output_type": "stream",
     "text": [
      "Name =  Anish\n"
     ]
    }
   ],
   "source": [
    "#private and public modifiers  (used underscore bfr name)\n",
    "class Stu:\n",
    "    def __init__(self,name,rollnumber):\n",
    "        self.__name = name\n",
    "        self.rollnumber = rollnumber\n",
    "    def details(self):\n",
    "        print(\"Name = \",self.__name)\n",
    "s1 = Stu('Anish',19)\n",
    "s1.details()"
   ]
  },
  {
   "cell_type": "code",
   "execution_count": null,
   "metadata": {},
   "outputs": [],
   "source": []
  },
  {
   "cell_type": "code",
   "execution_count": 38,
   "metadata": {},
   "outputs": [],
   "source": [
    "class Fraction:\n",
    "    def __init__(self,num = 0,den=1):\n",
    "        if den == 0:\n",
    "            #throw error\n",
    "            den = 1\n",
    "        self.num = num\n",
    "        self.den = den\n",
    "    def printf(self):\n",
    "        if self.den == 1 :\n",
    "            print(self.num)\n",
    "        elif self.num == 0:\n",
    "            print(0)\n",
    "        else:\n",
    "            print(self.num,'/',self.den)\n",
    "    def simplify(self):\n",
    "        current = min(self.num,self.den)\n",
    "        while current> 1:\n",
    "            if self.num%current == 0 and self.den%current == 0:\n",
    "                break\n",
    "            current -= 1\n",
    "        self.num = self.num//current\n",
    "        self.den = self.den//current\n",
    "    def add(self,otherfraction):\n",
    "        new_num = otherfraction.den*self.num + otherfraction.num*self.den\n",
    "        new_den = otherfraction.den*self.den\n",
    "        \n",
    "        self.num = new_num\n",
    "        self.den = new_den\n",
    "        self.simplify()\n",
    "    def mult(self,otherfraction):\n",
    "        new_num = otherfraction.num*self.num\n",
    "        new_den = otherfraction.den*self.den\n",
    "        self.num = new_num\n",
    "        self.den = new_den\n",
    "        self.simplify()"
   ]
  },
  {
   "cell_type": "code",
   "execution_count": 52,
   "metadata": {},
   "outputs": [],
   "source": [
    "f1 = Fraction(16,6)\n",
    "f2 = Fraction(14,5)"
   ]
  },
  {
   "cell_type": "code",
   "execution_count": 53,
   "metadata": {},
   "outputs": [],
   "source": [
    "f1.simplify()\n",
    "f2.simplify()"
   ]
  },
  {
   "cell_type": "code",
   "execution_count": 54,
   "metadata": {},
   "outputs": [
    {
     "name": "stdout",
     "output_type": "stream",
     "text": [
      "8 / 3\n",
      "14 / 5\n"
     ]
    }
   ],
   "source": [
    "f1.printf()\n",
    "f2.printf()"
   ]
  },
  {
   "cell_type": "code",
   "execution_count": 55,
   "metadata": {},
   "outputs": [],
   "source": [
    "f1.mult(f2)"
   ]
  },
  {
   "cell_type": "code",
   "execution_count": 56,
   "metadata": {},
   "outputs": [
    {
     "name": "stdout",
     "output_type": "stream",
     "text": [
      "112 / 15\n"
     ]
    }
   ],
   "source": [
    "f1.printf()"
   ]
  },
  {
   "cell_type": "code",
   "execution_count": 63,
   "metadata": {},
   "outputs": [],
   "source": [
    "#inheritance\n",
    "\n",
    "class vehicle:\n",
    "    def __init__(self,color,maxspeed):\n",
    "        self.color = color\n",
    "        #for protected class\n",
    "        self.__maxspeed = maxspeed\n",
    "    #private class\n",
    "    def getmaxspeed(self):\n",
    "        return self.__maxspeed\n",
    "    def setmaxspeed(self,maxspeed):\n",
    "        self.__maxspeed = maxspeed\n",
    "    def printf(self):\n",
    "        print(\"Color : \",self.color)\n",
    "        print(\"Maxspeed : \",self.getmaxspeed())   #private\n",
    "class Car(vehicle):\n",
    "    def __init__(self,color,maxspeed,numgears,isConvertible):\n",
    "        super().__init__(color,maxspeed)\n",
    "        self.numgears = numgears\n",
    "        self.isConvertible = isConvertible\n",
    "    def printcar(self):\n",
    "        super().printf()\n",
    "        print(\"Numgears : \",self.numgears)\n",
    "        print(\"IsConvertible : \",self.isConvertible)"
   ]
  },
  {
   "cell_type": "code",
   "execution_count": 64,
   "metadata": {},
   "outputs": [],
   "source": [
    "c = Car('black',60,4,False)"
   ]
  },
  {
   "cell_type": "code",
   "execution_count": 65,
   "metadata": {},
   "outputs": [
    {
     "name": "stdout",
     "output_type": "stream",
     "text": [
      "Color :  black\n",
      "Maxspeed :  60\n",
      "Numgears :  4\n",
      "IsConvertible :  False\n"
     ]
    }
   ],
   "source": [
    "c.printcar()"
   ]
  },
  {
   "cell_type": "code",
   "execution_count": 67,
   "metadata": {},
   "outputs": [
    {
     "name": "stdout",
     "output_type": "stream",
     "text": [
      "This is a circle class which takes radius as argument\n"
     ]
    }
   ],
   "source": [
    "#__str__\n",
    "\n",
    "class circle(object):\n",
    "    def __init__(self,radius):\n",
    "        self.__radius = radius\n",
    "    def __str__(self):\n",
    "        return \"This is a circle class which takes radius as argument\"\n",
    "    \n",
    "c = circle(3)\n",
    "print(c)"
   ]
  },
  {
   "cell_type": "code",
   "execution_count": 82,
   "metadata": {},
   "outputs": [
    {
     "name": "stdout",
     "output_type": "stream",
     "text": [
      "Name of child :  suja\n"
     ]
    }
   ],
   "source": [
    "# multiple inheritance\n",
    "\n",
    "class Mother:\n",
    "    def __init__(self):\n",
    "        self.name = 'suja'\n",
    "    def print(self):\n",
    "        print(\"Mother class\")\n",
    "class Father:\n",
    "    def __init__(self,name):\n",
    "        self.name = name\n",
    "    def print(self):\n",
    "        print(\"Father class\")\n",
    "class child(Mother,Father):\n",
    "    def __init__(self):\n",
    "        super().__init__()\n",
    "    def printchild(self):\n",
    "        \n",
    "        print(\"Name of child : \",self.name)\n",
    "        \n",
    "c = child()\n",
    "c.printchild()"
   ]
  },
  {
   "cell_type": "code",
   "execution_count": 86,
   "metadata": {},
   "outputs": [
    {
     "name": "stdout",
     "output_type": "stream",
     "text": [
      "Father class\n"
     ]
    }
   ],
   "source": [
    "class Mother:\n",
    "    def __init__(self):\n",
    "        print(\"Mother class\")\n",
    "class Father:\n",
    "    def __init__(self):\n",
    "        print(\"Father class\")\n",
    "class child(Father,Mother):\n",
    "    def __init__(self):\n",
    "        super().__init__()\n",
    "c = child()"
   ]
  },
  {
   "cell_type": "code",
   "execution_count": 87,
   "metadata": {},
   "outputs": [
    {
     "name": "stdout",
     "output_type": "stream",
     "text": [
      "car created\n"
     ]
    }
   ],
   "source": [
    "from abc import ABC,abstractmethod\n",
    "\n",
    "class Automobile(ABC):\n",
    "    def __init__(self):\n",
    "        print(\"Automobile created\")\n",
    "        \n",
    "    @abstractmethod\n",
    "    def start(self):\n",
    "        pass\n",
    "    @abstractmethod\n",
    "    def stop(self):\n",
    "        pass\n",
    "\n",
    "class Car(Automobile):\n",
    "    def __init__(self,name):\n",
    "        print(\"car created\")\n",
    "        self.name = name\n",
    "    def start(self):\n",
    "        pass\n",
    "    def stop(self):\n",
    "        pass\n",
    "\n",
    "c = Car('honda')"
   ]
  },
  {
   "cell_type": "code",
   "execution_count": null,
   "metadata": {},
   "outputs": [],
   "source": []
  }
 ],
 "metadata": {
  "kernelspec": {
   "display_name": "Python 3",
   "language": "python",
   "name": "python3"
  },
  "language_info": {
   "codemirror_mode": {
    "name": "ipython",
    "version": 3
   },
   "file_extension": ".py",
   "mimetype": "text/x-python",
   "name": "python",
   "nbconvert_exporter": "python",
   "pygments_lexer": "ipython3",
   "version": "3.8.3"
  }
 },
 "nbformat": 4,
 "nbformat_minor": 4
}
